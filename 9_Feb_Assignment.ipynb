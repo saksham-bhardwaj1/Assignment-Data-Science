{
 "cells": [
  {
   "cell_type": "markdown",
   "id": "40708011",
   "metadata": {},
   "source": [
    "### Q1, Create a vehicle class with an init method having instance variables as name_of_vehicle, max_speed and average_of_vehicle."
   ]
  },
  {
   "cell_type": "code",
   "execution_count": 1,
   "id": "0e0e5d42",
   "metadata": {},
   "outputs": [],
   "source": [
    "class vehicle:\n",
    "    def __init__(self,name_of_vehicle,max_speed,average_of_vehicle):\n",
    "        self.name_of_vehicle=name_of_vehicle\n",
    "        self.max_speed= max_speed\n",
    "        self.average_of_vehicle=average_of_vehicle\n",
    "    "
   ]
  },
  {
   "cell_type": "markdown",
   "id": "1ac4ad9a",
   "metadata": {},
   "source": [
    "### Q2,Create a child class car from the vehicle class created in Que 1, which will inherit the vehicle class. Create a method named seating_capacity which takes capacity as an argument and returns the name of the vehicle and its seating capacity."
   ]
  },
  {
   "cell_type": "code",
   "execution_count": 25,
   "id": "37c2cf2f",
   "metadata": {},
   "outputs": [],
   "source": [
    "class car(vehicle):\n",
    "    def seating_capacity(self,capacity):\n",
    "        return \"name of the vehicle is \",self.name_of_vehicle ,\"and seating capacity is \",capacity\n",
    "            "
   ]
  },
  {
   "cell_type": "code",
   "execution_count": 26,
   "id": "c9d55adb",
   "metadata": {},
   "outputs": [],
   "source": [
    "b=car(\"maruti\",98,60)"
   ]
  },
  {
   "cell_type": "code",
   "execution_count": 27,
   "id": "751d7369",
   "metadata": {},
   "outputs": [
    {
     "data": {
      "text/plain": [
       "('name of the vehicle is ', 'maruti', 'and seating capacity is ', 4)"
      ]
     },
     "execution_count": 27,
     "metadata": {},
     "output_type": "execute_result"
    }
   ],
   "source": [
    "b.seating_capacity(4)"
   ]
  },
  {
   "cell_type": "markdown",
   "id": "807692e5",
   "metadata": {},
   "source": [
    "### Q3. What is multiple inheritance? Write a python code to demonstrate multiple inheritance."
   ]
  },
  {
   "cell_type": "markdown",
   "id": "4e5aec3b",
   "metadata": {},
   "source": [
    "Multiple inheritance:-is a feature of some object-oriented computer programming languages in which an object or class can inherit features from more than one parent object or parent class. It is distinct from single inheritance, where an object or class may only inherit from one particular object or class.\n",
    "eg"
   ]
  },
  {
   "cell_type": "code",
   "execution_count": 71,
   "id": "29646c93",
   "metadata": {},
   "outputs": [],
   "source": [
    "class vehicle:\n",
    "    def __init__(self,name_of_vehicle,max_speed,average_of_vehicle):\n",
    "        self.name_of_vehicle=name_of_vehicle\n",
    "        self.max_speed= max_speed\n",
    "        self.average_of_vehicle=average_of_vehicle"
   ]
  },
  {
   "cell_type": "code",
   "execution_count": 73,
   "id": "cf07d419",
   "metadata": {},
   "outputs": [],
   "source": [
    "class Type:\n",
    "    def type_of_vehicle(self):\n",
    "        return \"Heavy Motar Vehicle\"\n",
    "        \n",
    "             "
   ]
  },
  {
   "cell_type": "code",
   "execution_count": 74,
   "id": "9f8f0a01",
   "metadata": {},
   "outputs": [],
   "source": [
    "class car(vehicle,Type): ## inherit from parent class vehicle,Type\n",
    "    pass\n",
    "            "
   ]
  },
  {
   "cell_type": "code",
   "execution_count": 76,
   "id": "4b31cbd9",
   "metadata": {},
   "outputs": [],
   "source": [
    "a=car(\"Maruti\",200000,32)"
   ]
  },
  {
   "cell_type": "code",
   "execution_count": 77,
   "id": "57c9a518",
   "metadata": {},
   "outputs": [
    {
     "data": {
      "text/plain": [
       "32"
      ]
     },
     "execution_count": 77,
     "metadata": {},
     "output_type": "execute_result"
    }
   ],
   "source": [
    "a.average_of_vehicle #inherit from vehicle class"
   ]
  },
  {
   "cell_type": "code",
   "execution_count": 78,
   "id": "ad4dc1dc",
   "metadata": {},
   "outputs": [
    {
     "data": {
      "text/plain": [
       "200000"
      ]
     },
     "execution_count": 78,
     "metadata": {},
     "output_type": "execute_result"
    }
   ],
   "source": [
    "a.max_speed #inherit from vehicle class"
   ]
  },
  {
   "cell_type": "code",
   "execution_count": 79,
   "id": "1244ba91",
   "metadata": {},
   "outputs": [
    {
     "data": {
      "text/plain": [
       "'Maruti'"
      ]
     },
     "execution_count": 79,
     "metadata": {},
     "output_type": "execute_result"
    }
   ],
   "source": [
    "a.name_of_vehicle #inherit from vehicle class"
   ]
  },
  {
   "cell_type": "code",
   "execution_count": 81,
   "id": "8ea8c835",
   "metadata": {},
   "outputs": [
    {
     "data": {
      "text/plain": [
       "'Heavy Motar Vehicle'"
      ]
     },
     "execution_count": 81,
     "metadata": {},
     "output_type": "execute_result"
    }
   ],
   "source": [
    "a.type_of_vehicle() #inherit from Type class"
   ]
  },
  {
   "cell_type": "markdown",
   "id": "0d5dfb68",
   "metadata": {},
   "source": [
    "### Q4. What are getter and setter in python? Create a class and create a getter and a setter method in this class."
   ]
  },
  {
   "cell_type": "markdown",
   "id": "015ec582",
   "metadata": {},
   "source": [
    "In Python, getters and setters are methods used to access and modify the values of class attributes or properties. Getters are used to get or retrieve the value of an attribute, while setters are used to set or modify the value of an attribute."
   ]
  },
  {
   "cell_type": "code",
   "execution_count": 109,
   "id": "217a8f46",
   "metadata": {},
   "outputs": [],
   "source": [
    "class personal_info:\n",
    "    def __init__(self,name,aadhar,pan):\n",
    "        self.name=name\n",
    "        self.__aadhar=aadhar ##encapsulate\n",
    "        self.__pan=pan\n",
    "    @property\n",
    "    def Know_Info(self):\n",
    "        return self.name , self.__aadhar,self.__pan\n",
    "    @Know_Info.setter ### modify value\n",
    "    def changepan(self,pan):\n",
    "        self.__pan=pan"
   ]
  },
  {
   "cell_type": "code",
   "execution_count": 110,
   "id": "2e507e23",
   "metadata": {},
   "outputs": [],
   "source": [
    "pi=personal_info(\"Saksham\",9889887899,8898989877)"
   ]
  },
  {
   "cell_type": "code",
   "execution_count": 111,
   "id": "fa02f579",
   "metadata": {},
   "outputs": [
    {
     "data": {
      "text/plain": [
       "'Saksham'"
      ]
     },
     "execution_count": 111,
     "metadata": {},
     "output_type": "execute_result"
    }
   ],
   "source": [
    "pi.name"
   ]
  },
  {
   "cell_type": "code",
   "execution_count": 112,
   "id": "088d6715",
   "metadata": {},
   "outputs": [
    {
     "data": {
      "text/plain": [
       "('Saksham', 9889887899, 8898989877)"
      ]
     },
     "execution_count": 112,
     "metadata": {},
     "output_type": "execute_result"
    }
   ],
   "source": [
    "pi.Know_Info"
   ]
  },
  {
   "cell_type": "code",
   "execution_count": 113,
   "id": "21657690",
   "metadata": {},
   "outputs": [],
   "source": [
    "pi.changepan=99999999 # modify to new value"
   ]
  },
  {
   "cell_type": "code",
   "execution_count": 114,
   "id": "319863cf",
   "metadata": {},
   "outputs": [
    {
     "data": {
      "text/plain": [
       "('Saksham', 9889887899, 99999999)"
      ]
     },
     "execution_count": 114,
     "metadata": {},
     "output_type": "execute_result"
    }
   ],
   "source": [
    "pi.Know_Info"
   ]
  },
  {
   "cell_type": "markdown",
   "id": "dd487686",
   "metadata": {},
   "source": [
    "### Q5.What is method overriding in python? Write a python code to demonstrate method overriding."
   ]
  },
  {
   "cell_type": "markdown",
   "id": "942cbd46",
   "metadata": {},
   "source": [
    "Method overriding is an ability of any object-oriented programming language that allows a subclass or child class to provide a specific implementation of a method that is already provided by one of its super-classes or parent classes. When a method in a subclass has the same name, same parameters or signature and same return type(or sub-type) as a method in its super-class, then the method in the subclass is said to override the method in the super-class."
   ]
  },
  {
   "cell_type": "code",
   "execution_count": 117,
   "id": "e30bcc13",
   "metadata": {},
   "outputs": [],
   "source": [
    "class Animal:\n",
    "    def make_sound(self):\n",
    "        pass"
   ]
  },
  {
   "cell_type": "code",
   "execution_count": 130,
   "id": "05bb9818",
   "metadata": {},
   "outputs": [],
   "source": [
    "class Dog(Animal):\n",
    "        def make_sound(self):\n",
    "            print( \"Bau Bau\")"
   ]
  },
  {
   "cell_type": "code",
   "execution_count": 132,
   "id": "14c77379",
   "metadata": {},
   "outputs": [],
   "source": [
    "class Cat(Animal):\n",
    "    def make_sound(self):\n",
    "        print(\"Meow Meow\")"
   ]
  },
  {
   "cell_type": "code",
   "execution_count": 133,
   "id": "e79f3fa9",
   "metadata": {},
   "outputs": [],
   "source": [
    "animal=Animal()\n",
    "dog=Dog()\n",
    "cat=Cat()"
   ]
  },
  {
   "cell_type": "code",
   "execution_count": 134,
   "id": "c24e3c79",
   "metadata": {},
   "outputs": [
    {
     "name": "stdout",
     "output_type": "stream",
     "text": [
      "Bau Bau\n",
      "Meow Meow\n"
     ]
    }
   ],
   "source": [
    "animal.make_sound()\n",
    "dog.make_sound()\n",
    "cat.make_sound()"
   ]
  },
  {
   "cell_type": "code",
   "execution_count": null,
   "id": "77dff7be",
   "metadata": {},
   "outputs": [],
   "source": []
  }
 ],
 "metadata": {
  "kernelspec": {
   "display_name": "Python 3 (ipykernel)",
   "language": "python",
   "name": "python3"
  },
  "language_info": {
   "codemirror_mode": {
    "name": "ipython",
    "version": 3
   },
   "file_extension": ".py",
   "mimetype": "text/x-python",
   "name": "python",
   "nbconvert_exporter": "python",
   "pygments_lexer": "ipython3",
   "version": "3.9.12"
  }
 },
 "nbformat": 4,
 "nbformat_minor": 5
}
