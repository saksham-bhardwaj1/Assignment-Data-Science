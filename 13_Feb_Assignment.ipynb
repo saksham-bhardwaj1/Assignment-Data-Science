{
 "cells": [
  {
   "cell_type": "markdown",
   "id": "c9606ebc",
   "metadata": {},
   "source": [
    "### Q1. Explain why we have to use the Exception class while creating a Custom Exception. \n",
    "Note: Here Exception class refers to the base class for all the exceptions."
   ]
  },
  {
   "cell_type": "markdown",
   "id": "2231bb36",
   "metadata": {},
   "source": [
    "When creating a custom exception, it's important to inherit from the Exception class because it provides a standard interface and behavior for handling errors in Python.\n",
    "By inheriting from the Exception class, our custom exception will inherit all of the methods and attributes of the base class, such as __str__() and args. This makes it easier to create and raise exceptions with consistent behavior.\n",
    "Additionally, Python has a built-in mechanism for handling exceptions using try and except blocks, which rely on the Exception class hierarchy to determine which exceptions to catch and how to handle them. By inheriting from the Exception class, your custom exception will be caught by the same exception-handling mechanisms as other built-in exceptions, making it easier to handle and debug errors in our code.\n",
    "In summary, using the Exception class as a base for creating custom exceptions ensures that our exceptions have a consistent interface and behavior, and makes it easier to handle and debug errors in our code using Python's built-in exception-handling mechanisms."
   ]
  },
  {
   "cell_type": "markdown",
   "id": "06bdad1f",
   "metadata": {},
   "source": [
    "### Q2. Write a python program to print Python Exception Hierarchy."
   ]
  },
  {
   "cell_type": "code",
   "execution_count": 3,
   "id": "e35a5af8",
   "metadata": {},
   "outputs": [],
   "source": [
    "import logging"
   ]
  },
  {
   "cell_type": "code",
   "execution_count": 57,
   "id": "8dcf1a72",
   "metadata": {},
   "outputs": [],
   "source": [
    "logging.basicConfig(filename=\"13_feb.log\",level=logging.DEBUG, format='%(asctime)s %(levelname) %(message)s')"
   ]
  },
  {
   "cell_type": "code",
   "execution_count": 62,
   "id": "6cb7500e",
   "metadata": {},
   "outputs": [],
   "source": [
    "import inspect\n",
    "def treeClass(cls, ind=0):\n",
    "    logging.info( \"{a} {b}\".format(a='_' *ind,b=cls.__name__))\n",
    "    for i in cls.__subclasses__():\n",
    "        treeClass(i,ind+3)\n",
    "logging.info(\"Hierarchy for Built-in exception is : \")\n",
    "\n",
    "inspect.getclasstree(inspect.getmro(BaseException))\n",
    "\n",
    "treeClass(BaseException)\n"
   ]
  },
  {
   "cell_type": "code",
   "execution_count": 63,
   "id": "1784fae3",
   "metadata": {},
   "outputs": [
    {
     "name": "stdout",
     "output_type": "stream",
     "text": [
      "2023-03-16 14:24:02,805 Hierarchy for Built-in exception is : \n",
      "2023-03-16 14:24:02,806  BaseException\n",
      "2023-03-16 14:24:02,806 ___ Exception\n",
      "2023-03-16 14:24:02,807 ______ TypeError\n",
      "2023-03-16 14:24:02,807 _________ FloatOperation\n",
      "2023-03-16 14:24:02,807 _________ MultipartConversionError\n",
      "2023-03-16 14:24:02,807 ______ StopAsyncIteration\n",
      "2023-03-16 14:24:02,807 ______ StopIteration\n",
      "2023-03-16 14:24:02,807 ______ ImportError\n",
      "2023-03-16 14:24:02,808 _________ ModuleNotFoundError\n",
      "2023-03-16 14:24:02,808 ____________ PackageNotFoundError\n",
      "2023-03-16 14:24:02,808 ____________ PackageNotFoundError\n",
      "2023-03-16 14:24:02,808 _________ ZipImportError\n",
      "2023-03-16 14:24:02,808 ______ OSError\n",
      "2023-03-16 14:24:02,808 _________ ConnectionError\n",
      "2023-03-16 14:24:02,808 ____________ BrokenPipeError\n",
      "2023-03-16 14:24:02,808 ____________ ConnectionAbortedError\n",
      "2023-03-16 14:24:02,808 ____________ ConnectionRefusedError\n",
      "2023-03-16 14:24:02,809 ____________ ConnectionResetError\n",
      "2023-03-16 14:24:02,809 _______________ RemoteDisconnected\n",
      "2023-03-16 14:24:02,809 _________ BlockingIOError\n",
      "2023-03-16 14:24:02,809 _________ ChildProcessError\n",
      "2023-03-16 14:24:02,809 _________ FileExistsError\n",
      "2023-03-16 14:24:02,809 _________ FileNotFoundError\n",
      "2023-03-16 14:24:02,809 _________ IsADirectoryError\n",
      "2023-03-16 14:24:02,809 _________ NotADirectoryError\n",
      "2023-03-16 14:24:02,810 _________ InterruptedError\n",
      "2023-03-16 14:24:02,810 ____________ InterruptedSystemCall\n",
      "2023-03-16 14:24:02,810 _________ PermissionError\n",
      "2023-03-16 14:24:02,810 _________ ProcessLookupError\n",
      "2023-03-16 14:24:02,810 _________ TimeoutError\n",
      "2023-03-16 14:24:02,810 _________ UnsupportedOperation\n",
      "2023-03-16 14:24:02,810 _________ herror\n",
      "2023-03-16 14:24:02,810 _________ gaierror\n",
      "2023-03-16 14:24:02,811 _________ timeout\n",
      "2023-03-16 14:24:02,811 _________ Error\n",
      "2023-03-16 14:24:02,811 ____________ SameFileError\n",
      "2023-03-16 14:24:02,811 _________ SpecialFileError\n",
      "2023-03-16 14:24:02,811 _________ ExecError\n",
      "2023-03-16 14:24:02,811 _________ ReadError\n",
      "2023-03-16 14:24:02,811 _________ SSLError\n",
      "2023-03-16 14:24:02,812 ____________ SSLCertVerificationError\n",
      "2023-03-16 14:24:02,812 ____________ SSLZeroReturnError\n",
      "2023-03-16 14:24:02,812 ____________ SSLWantReadError\n",
      "2023-03-16 14:24:02,812 ____________ SSLWantWriteError\n",
      "2023-03-16 14:24:02,812 ____________ SSLSyscallError\n",
      "2023-03-16 14:24:02,812 ____________ SSLEOFError\n",
      "2023-03-16 14:24:02,812 _________ URLError\n",
      "2023-03-16 14:24:02,812 ____________ HTTPError\n",
      "2023-03-16 14:24:02,812 ____________ ContentTooShortError\n",
      "2023-03-16 14:24:02,813 _________ BadGzipFile\n",
      "2023-03-16 14:24:02,813 ______ EOFError\n",
      "2023-03-16 14:24:02,813 _________ IncompleteReadError\n",
      "2023-03-16 14:24:02,813 ______ RuntimeError\n",
      "2023-03-16 14:24:02,813 _________ RecursionError\n",
      "2023-03-16 14:24:02,813 _________ NotImplementedError\n",
      "2023-03-16 14:24:02,813 ____________ ZMQVersionError\n",
      "2023-03-16 14:24:02,813 ____________ StdinNotImplementedError\n",
      "2023-03-16 14:24:02,813 _________ _DeadlockError\n",
      "2023-03-16 14:24:02,813 _________ BrokenBarrierError\n",
      "2023-03-16 14:24:02,813 _________ BrokenExecutor\n",
      "2023-03-16 14:24:02,814 ____________ BrokenThreadPool\n",
      "2023-03-16 14:24:02,814 _________ SendfileNotAvailableError\n",
      "2023-03-16 14:24:02,814 _________ ExtractionError\n",
      "2023-03-16 14:24:02,814 _________ RemovedCommandError\n",
      "2023-03-16 14:24:02,814 _________ PackageDiscoveryError\n",
      "2023-03-16 14:24:02,814 _________ VariableError\n",
      "2023-03-16 14:24:02,814 ______ NameError\n",
      "2023-03-16 14:24:02,814 _________ UnboundLocalError\n",
      "2023-03-16 14:24:02,814 ______ AttributeError\n",
      "2023-03-16 14:24:02,814 _________ FrozenInstanceError\n",
      "2023-03-16 14:24:02,814 ______ SyntaxError\n",
      "2023-03-16 14:24:02,815 _________ IndentationError\n",
      "2023-03-16 14:24:02,815 ____________ TabError\n",
      "2023-03-16 14:24:02,815 ______ LookupError\n",
      "2023-03-16 14:24:02,815 _________ IndexError\n",
      "2023-03-16 14:24:02,815 _________ KeyError\n",
      "2023-03-16 14:24:02,815 ____________ NoSuchKernel\n",
      "2023-03-16 14:24:02,815 ____________ UnknownBackend\n",
      "2023-03-16 14:24:02,815 _________ CodecRegistryError\n",
      "2023-03-16 14:24:02,815 ______ ValueError\n",
      "2023-03-16 14:24:02,815 _________ UnicodeError\n",
      "2023-03-16 14:24:02,816 ____________ UnicodeEncodeError\n",
      "2023-03-16 14:24:02,816 ____________ UnicodeDecodeError\n",
      "2023-03-16 14:24:02,816 ____________ UnicodeTranslateError\n",
      "2023-03-16 14:24:02,816 _________ UnsupportedOperation\n",
      "2023-03-16 14:24:02,816 _________ JSONDecodeError\n",
      "2023-03-16 14:24:02,816 _________ SSLCertVerificationError\n",
      "2023-03-16 14:24:02,817 _________ Error\n",
      "2023-03-16 14:24:02,817 _________ ClassNotFound\n",
      "2023-03-16 14:24:02,817 _________ ClipboardEmpty\n",
      "2023-03-16 14:24:02,817 _________ MessageDefect\n",
      "2023-03-16 14:24:02,817 ____________ NoBoundaryInMultipartDefect\n",
      "2023-03-16 14:24:02,817 ____________ StartBoundaryNotFoundDefect\n",
      "2023-03-16 14:24:02,817 ____________ CloseBoundaryNotFoundDefect\n",
      "2023-03-16 14:24:02,817 ____________ FirstHeaderLineIsContinuationDefect\n",
      "2023-03-16 14:24:02,818 ____________ MisplacedEnvelopeHeaderDefect\n",
      "2023-03-16 14:24:02,818 ____________ MissingHeaderBodySeparatorDefect\n",
      "2023-03-16 14:24:02,818 ____________ MultipartInvariantViolationDefect\n",
      "2023-03-16 14:24:02,818 ____________ InvalidMultipartContentTransferEncodingDefect\n",
      "2023-03-16 14:24:02,818 ____________ UndecodableBytesDefect\n",
      "2023-03-16 14:24:02,818 ____________ InvalidBase64PaddingDefect\n",
      "2023-03-16 14:24:02,818 ____________ InvalidBase64CharactersDefect\n",
      "2023-03-16 14:24:02,818 ____________ InvalidBase64LengthDefect\n",
      "2023-03-16 14:24:02,819 ____________ HeaderDefect\n",
      "2023-03-16 14:24:02,819 _______________ InvalidHeaderDefect\n",
      "2023-03-16 14:24:02,819 _______________ HeaderMissingRequiredValue\n",
      "2023-03-16 14:24:02,819 _______________ NonPrintableDefect\n",
      "2023-03-16 14:24:02,819 _______________ ObsoleteHeaderDefect\n",
      "2023-03-16 14:24:02,819 _______________ NonASCIILocalPartDefect\n",
      "2023-03-16 14:24:02,819 _________ IllegalMonthError\n",
      "2023-03-16 14:24:02,819 _________ IllegalWeekdayError\n",
      "2023-03-16 14:24:02,819 _________ MacroToEdit\n",
      "2023-03-16 14:24:02,819 _________ ParserError\n",
      "2023-03-16 14:24:02,819 _________ InvalidFileException\n",
      "2023-03-16 14:24:02,819 _________ UnequalIterablesError\n",
      "2023-03-16 14:24:02,820 _________ InvalidVersion\n",
      "2023-03-16 14:24:02,820 _________ _InvalidELFFileHeader\n",
      "2023-03-16 14:24:02,820 _________ InvalidWheelFilename\n",
      "2023-03-16 14:24:02,820 _________ InvalidSdistFilename\n",
      "2023-03-16 14:24:02,820 _________ InvalidSpecifier\n",
      "2023-03-16 14:24:02,820 _________ InvalidMarker\n",
      "2023-03-16 14:24:02,820 _________ UndefinedComparison\n",
      "2023-03-16 14:24:02,820 _________ UndefinedEnvironmentName\n",
      "2023-03-16 14:24:02,820 _________ InvalidRequirement\n",
      "2023-03-16 14:24:02,820 ____________ RequirementParseError\n",
      "2023-03-16 14:24:02,820 _________ UnequalIterablesError\n",
      "2023-03-16 14:24:02,821 _________ _InvalidELFFileHeader\n",
      "2023-03-16 14:24:02,821 _________ InvalidVersion\n",
      "2023-03-16 14:24:02,821 _________ InvalidWheelFilename\n",
      "2023-03-16 14:24:02,821 _________ InvalidSdistFilename\n",
      "2023-03-16 14:24:02,821 _________ InvalidSpecifier\n",
      "2023-03-16 14:24:02,821 _________ InvalidMarker\n",
      "2023-03-16 14:24:02,821 _________ UndefinedComparison\n",
      "2023-03-16 14:24:02,821 _________ UndefinedEnvironmentName\n",
      "2023-03-16 14:24:02,821 _________ InvalidRequirement\n",
      "2023-03-16 14:24:02,821 ______ AssertionError\n",
      "2023-03-16 14:24:02,821 ______ ArithmeticError\n",
      "2023-03-16 14:24:02,821 _________ FloatingPointError\n",
      "2023-03-16 14:24:02,821 _________ OverflowError\n",
      "2023-03-16 14:24:02,821 _________ ZeroDivisionError\n",
      "2023-03-16 14:24:02,821 ____________ DivisionByZero\n",
      "2023-03-16 14:24:02,822 ____________ DivisionUndefined\n",
      "2023-03-16 14:24:02,822 _________ DecimalException\n",
      "2023-03-16 14:24:02,822 ____________ Clamped\n",
      "2023-03-16 14:24:02,822 ____________ Rounded\n",
      "2023-03-16 14:24:02,822 _______________ Underflow\n",
      "2023-03-16 14:24:02,822 _______________ Overflow\n",
      "2023-03-16 14:24:02,822 ____________ Inexact\n",
      "2023-03-16 14:24:02,822 _______________ Underflow\n",
      "2023-03-16 14:24:02,823 _______________ Overflow\n",
      "2023-03-16 14:24:02,823 ____________ Subnormal\n",
      "2023-03-16 14:24:02,823 _______________ Underflow\n",
      "2023-03-16 14:24:02,823 ____________ DivisionByZero\n",
      "2023-03-16 14:24:02,823 ____________ FloatOperation\n",
      "2023-03-16 14:24:02,823 ____________ InvalidOperation\n",
      "2023-03-16 14:24:02,823 _______________ ConversionSyntax\n",
      "2023-03-16 14:24:02,823 _______________ DivisionImpossible\n",
      "2023-03-16 14:24:02,823 _______________ DivisionUndefined\n",
      "2023-03-16 14:24:02,823 _______________ InvalidContext\n",
      "2023-03-16 14:24:02,824 ______ SystemError\n",
      "2023-03-16 14:24:02,824 _________ CodecRegistryError\n",
      "2023-03-16 14:24:02,824 ______ ReferenceError\n",
      "2023-03-16 14:24:02,824 ______ MemoryError\n",
      "2023-03-16 14:24:02,824 ______ BufferError\n",
      "2023-03-16 14:24:02,824 ______ Warning\n",
      "2023-03-16 14:24:02,824 _________ UserWarning\n",
      "2023-03-16 14:24:02,824 ____________ GetPassWarning\n",
      "2023-03-16 14:24:02,824 ____________ FormatterWarning\n",
      "2023-03-16 14:24:02,824 ____________ _WouldIgnoreField\n",
      "2023-03-16 14:24:02,825 ____________ _ExperimentalProjectMetadata\n",
      "2023-03-16 14:24:02,825 ____________ _InvalidFile\n",
      "2023-03-16 14:24:02,825 _________ DeprecationWarning\n",
      "2023-03-16 14:24:02,825 ____________ ProvisionalWarning\n",
      "2023-03-16 14:24:02,825 _________ PendingDeprecationWarning\n",
      "2023-03-16 14:24:02,825 _________ SyntaxWarning\n",
      "2023-03-16 14:24:02,825 _________ RuntimeWarning\n",
      "2023-03-16 14:24:02,825 ____________ ProactorSelectorThreadWarning\n",
      "2023-03-16 14:24:02,826 ____________ UnknownTimezoneWarning\n",
      "2023-03-16 14:24:02,826 ____________ PEP440Warning\n",
      "2023-03-16 14:24:02,826 _________ FutureWarning\n",
      "2023-03-16 14:24:02,826 ____________ ProvisionalCompleterWarning\n",
      "2023-03-16 14:24:02,826 _________ ImportWarning\n",
      "2023-03-16 14:24:02,827 _________ UnicodeWarning\n",
      "2023-03-16 14:24:02,827 _________ BytesWarning\n",
      "2023-03-16 14:24:02,827 _________ ResourceWarning\n",
      "2023-03-16 14:24:02,827 _________ DeprecatedTzFormatWarning\n",
      "2023-03-16 14:24:02,827 _________ SetuptoolsDeprecationWarning\n",
      "2023-03-16 14:24:02,827 ____________ DistDeprecationWarning\n",
      "2023-03-16 14:24:02,827 _________ PkgResourcesDeprecationWarning\n",
      "2023-03-16 14:24:02,827 ______ Error\n",
      "2023-03-16 14:24:02,828 ______ _OptionError\n",
      "2023-03-16 14:24:02,828 ______ error\n",
      "2023-03-16 14:24:02,828 ______ Verbose\n",
      "2023-03-16 14:24:02,828 ______ _Error\n",
      "2023-03-16 14:24:02,828 ______ SubprocessError\n",
      "2023-03-16 14:24:02,828 _________ CalledProcessError\n",
      "2023-03-16 14:24:02,828 _________ TimeoutExpired\n",
      "2023-03-16 14:24:02,828 ______ _GiveupOnSendfile\n",
      "2023-03-16 14:24:02,828 ______ error\n",
      "2023-03-16 14:24:02,828 ______ LZMAError\n",
      "2023-03-16 14:24:02,828 ______ RegistryError\n",
      "2023-03-16 14:24:02,828 ______ _GiveupOnFastCopy\n",
      "2023-03-16 14:24:02,829 ______ ZMQBaseError\n",
      "2023-03-16 14:24:02,829 _________ ZMQError\n",
      "2023-03-16 14:24:02,829 ____________ ContextTerminated\n",
      "2023-03-16 14:24:02,829 ____________ Again\n",
      "2023-03-16 14:24:02,829 ____________ InterruptedSystemCall\n",
      "2023-03-16 14:24:02,829 _________ ZMQBindError\n",
      "2023-03-16 14:24:02,829 _________ NotDone\n",
      "2023-03-16 14:24:02,829 ______ Error\n",
      "2023-03-16 14:24:02,829 ______ error\n",
      "2023-03-16 14:24:02,829 ______ PickleError\n",
      "2023-03-16 14:24:02,829 _________ PicklingError\n",
      "2023-03-16 14:24:02,829 _________ UnpicklingError\n",
      "2023-03-16 14:24:02,829 ______ _Stop\n",
      "2023-03-16 14:24:02,830 ______ TokenError\n",
      "2023-03-16 14:24:02,830 ______ StopTokenizing\n",
      "2023-03-16 14:24:02,830 ______ ClassFoundException\n",
      "2023-03-16 14:24:02,830 ______ EndOfBlock\n",
      "2023-03-16 14:24:02,830 ______ TraitError\n",
      "2023-03-16 14:24:02,830 ______ ArgumentError\n",
      "2023-03-16 14:24:02,830 ______ ArgumentTypeError\n",
      "2023-03-16 14:24:02,830 ______ ConfigError\n",
      "2023-03-16 14:24:02,830 _________ ConfigLoaderError\n",
      "2023-03-16 14:24:02,830 ____________ ArgumentError\n",
      "2023-03-16 14:24:02,830 _________ ConfigFileNotFound\n",
      "2023-03-16 14:24:02,831 ______ ConfigurableError\n",
      "2023-03-16 14:24:02,831 _________ MultipleInstanceError\n",
      "2023-03-16 14:24:02,831 ______ ApplicationError\n",
      "2023-03-16 14:24:02,831 ______ NoIPAddresses\n",
      "2023-03-16 14:24:02,831 ______ Error\n",
      "2023-03-16 14:24:02,831 _________ CancelledError\n",
      "2023-03-16 14:24:02,831 _________ TimeoutError\n",
      "2023-03-16 14:24:02,831 _________ InvalidStateError\n",
      "2023-03-16 14:24:02,831 ______ Incomplete\n",
      "2023-03-16 14:24:02,831 ______ TimeoutError\n",
      "2023-03-16 14:24:02,831 ______ InvalidStateError\n",
      "2023-03-16 14:24:02,831 ______ LimitOverrunError\n",
      "2023-03-16 14:24:02,831 ______ QueueEmpty\n",
      "2023-03-16 14:24:02,831 ______ QueueFull\n",
      "2023-03-16 14:24:02,831 ______ InvalidPortNumber\n",
      "2023-03-16 14:24:02,831 ______ Empty\n",
      "2023-03-16 14:24:02,831 ______ Full\n",
      "2023-03-16 14:24:02,832 ______ DuplicateKernelError\n",
      "2023-03-16 14:24:02,832 ______ TimeoutError\n",
      "2023-03-16 14:24:02,832 ______ COMError\n",
      "2023-03-16 14:24:02,832 ______ ArgumentError\n",
      "2023-03-16 14:24:02,832 ______ ReturnValueIgnoredError\n",
      "2023-03-16 14:24:02,832 ______ KeyReuseError\n",
      "2023-03-16 14:24:02,832 ______ UnknownKeyError\n",
      "2023-03-16 14:24:02,832 ______ LeakedCallbackError\n",
      "2023-03-16 14:24:02,832 ______ BadYieldError\n",
      "2023-03-16 14:24:02,832 ______ ReturnValueIgnoredError\n",
      "2023-03-16 14:24:02,832 ______ Return\n",
      "2023-03-16 14:24:02,832 ______ ErrorDuringImport\n",
      "2023-03-16 14:24:02,832 ______ NotOneValueFound\n",
      "2023-03-16 14:24:02,832 ______ CannotEval\n",
      "2023-03-16 14:24:02,832 ______ OptionError\n",
      "2023-03-16 14:24:02,832 ______ BdbQuit\n",
      "2023-03-16 14:24:02,832 ______ Restart\n",
      "2023-03-16 14:24:02,832 ______ FindCmdError\n",
      "2023-03-16 14:24:02,833 ______ HomeDirError\n",
      "2023-03-16 14:24:02,833 ______ ProfileDirError\n",
      "2023-03-16 14:24:02,833 ______ IPythonCoreError\n",
      "2023-03-16 14:24:02,833 _________ TryNext\n",
      "2023-03-16 14:24:02,833 _________ UsageError\n",
      "2023-03-16 14:24:02,833 _________ StdinNotImplementedError\n",
      "2023-03-16 14:24:02,833 ______ InputRejected\n",
      "2023-03-16 14:24:02,833 ______ GetoptError\n",
      "2023-03-16 14:24:02,834 ______ ErrorToken\n",
      "2023-03-16 14:24:02,834 ______ PrefilterError\n",
      "2023-03-16 14:24:02,835 ______ AliasError\n",
      "2023-03-16 14:24:02,835 _________ InvalidAliasError\n",
      "2023-03-16 14:24:02,835 ______ Error\n",
      "2023-03-16 14:24:02,835 _________ InterfaceError\n",
      "2023-03-16 14:24:02,835 _________ DatabaseError\n",
      "2023-03-16 14:24:02,835 ____________ InternalError\n",
      "2023-03-16 14:24:02,835 ____________ OperationalError\n",
      "2023-03-16 14:24:02,836 ____________ ProgrammingError\n",
      "2023-03-16 14:24:02,836 ____________ IntegrityError\n",
      "2023-03-16 14:24:02,836 ____________ DataError\n",
      "2023-03-16 14:24:02,836 ____________ NotSupportedError\n",
      "2023-03-16 14:24:02,836 ______ Warning\n",
      "2023-03-16 14:24:02,836 ______ SpaceInInput\n",
      "2023-03-16 14:24:02,836 ______ DOMException\n",
      "2023-03-16 14:24:02,836 _________ IndexSizeErr\n",
      "2023-03-16 14:24:02,836 _________ DomstringSizeErr\n",
      "2023-03-16 14:24:02,836 _________ HierarchyRequestErr\n",
      "2023-03-16 14:24:02,836 _________ WrongDocumentErr\n",
      "2023-03-16 14:24:02,836 _________ InvalidCharacterErr\n",
      "2023-03-16 14:24:02,836 _________ NoDataAllowedErr\n",
      "2023-03-16 14:24:02,836 _________ NoModificationAllowedErr\n",
      "2023-03-16 14:24:02,836 _________ NotFoundErr\n",
      "2023-03-16 14:24:02,836 _________ NotSupportedErr\n",
      "2023-03-16 14:24:02,836 _________ InuseAttributeErr\n",
      "2023-03-16 14:24:02,837 _________ InvalidStateErr\n",
      "2023-03-16 14:24:02,837 _________ SyntaxErr\n",
      "2023-03-16 14:24:02,837 _________ InvalidModificationErr\n",
      "2023-03-16 14:24:02,837 _________ NamespaceErr\n",
      "2023-03-16 14:24:02,837 _________ InvalidAccessErr\n",
      "2023-03-16 14:24:02,837 _________ ValidationErr\n",
      "2023-03-16 14:24:02,837 ______ ValidationError\n",
      "2023-03-16 14:24:02,837 ______ EditReadOnlyBuffer\n",
      "2023-03-16 14:24:02,837 ______ _Retry\n",
      "2023-03-16 14:24:02,838 ______ InvalidLayoutError\n",
      "2023-03-16 14:24:02,838 ______ HeightIsUnknownError\n",
      "2023-03-16 14:24:02,838 ______ ParserSyntaxError\n",
      "2023-03-16 14:24:02,838 ______ InternalParseError\n",
      "2023-03-16 14:24:02,838 ______ _PositionUpdatingFinished\n",
      "2023-03-16 14:24:02,838 ______ SimpleGetItemNotFound\n",
      "2023-03-16 14:24:02,838 ______ UncaughtAttributeError\n",
      "2023-03-16 14:24:02,838 ______ HasNoContext\n",
      "2023-03-16 14:24:02,838 ______ ParamIssue\n",
      "2023-03-16 14:24:02,838 ______ BadZipFile\n",
      "2023-03-16 14:24:02,838 ______ LargeZipFile\n",
      "2023-03-16 14:24:02,838 ______ _JediError\n",
      "2023-03-16 14:24:02,838 _________ InternalError\n",
      "2023-03-16 14:24:02,838 _________ WrongVersion\n",
      "2023-03-16 14:24:02,838 _________ RefactoringError\n",
      "2023-03-16 14:24:02,838 ______ OnErrorLeaf\n",
      "2023-03-16 14:24:02,838 ______ InvalidPythonEnvironment\n",
      "2023-03-16 14:24:02,838 ______ MessageError\n",
      "2023-03-16 14:24:02,839 _________ MessageParseError\n",
      "2023-03-16 14:24:02,839 ____________ HeaderParseError\n",
      "2023-03-16 14:24:02,839 _______________ _InvalidEwError\n",
      "2023-03-16 14:24:02,839 ____________ BoundaryError\n",
      "2023-03-16 14:24:02,839 _________ MultipartConversionError\n",
      "2023-03-16 14:24:02,839 _________ CharsetError\n",
      "2023-03-16 14:24:02,839 ______ Error\n",
      "2023-03-16 14:24:02,839 ______ HTTPException\n",
      "2023-03-16 14:24:02,839 _________ NotConnected\n",
      "2023-03-16 14:24:02,839 _________ InvalidURL\n",
      "2023-03-16 14:24:02,839 _________ UnknownProtocol\n",
      "2023-03-16 14:24:02,839 _________ UnknownTransferEncoding\n",
      "2023-03-16 14:24:02,839 _________ UnimplementedFileMode\n",
      "2023-03-16 14:24:02,839 _________ IncompleteRead\n",
      "2023-03-16 14:24:02,839 _________ ImproperConnectionState\n",
      "2023-03-16 14:24:02,839 ____________ CannotSendRequest\n",
      "2023-03-16 14:24:02,839 ____________ CannotSendHeader\n",
      "2023-03-16 14:24:02,840 ____________ ResponseNotReady\n",
      "2023-03-16 14:24:02,840 _________ BadStatusLine\n",
      "2023-03-16 14:24:02,840 ____________ RemoteDisconnected\n",
      "2023-03-16 14:24:02,840 _________ LineTooLong\n",
      "2023-03-16 14:24:02,840 ______ InteractivelyDefined\n",
      "2023-03-16 14:24:02,840 ______ KillEmbedded\n",
      "2023-03-16 14:24:02,840 ______ Error\n",
      "2023-03-16 14:24:02,840 _________ NoSuchProcess\n",
      "2023-03-16 14:24:02,840 ____________ ZombieProcess\n",
      "2023-03-16 14:24:02,840 _________ AccessDenied\n",
      "2023-03-16 14:24:02,840 _________ TimeoutExpired\n",
      "2023-03-16 14:24:02,840 ______ Error\n",
      "2023-03-16 14:24:02,840 ______ TimeoutExpired\n",
      "2023-03-16 14:24:02,840 ______ TimeoutAbandoned\n",
      "2023-03-16 14:24:02,840 ______ QueueEmpty\n",
      "2023-03-16 14:24:02,840 ______ QueueFull\n",
      "2023-03-16 14:24:02,840 ______ DistutilsError\n",
      "2023-03-16 14:24:02,840 _________ DistutilsModuleError\n",
      "2023-03-16 14:24:02,841 _________ DistutilsClassError\n",
      "2023-03-16 14:24:02,841 _________ DistutilsGetoptError\n",
      "2023-03-16 14:24:02,841 _________ DistutilsArgError\n",
      "2023-03-16 14:24:02,841 _________ DistutilsFileError\n",
      "2023-03-16 14:24:02,841 _________ DistutilsOptionError\n",
      "2023-03-16 14:24:02,841 _________ DistutilsSetupError\n",
      "2023-03-16 14:24:02,841 _________ DistutilsPlatformError\n",
      "2023-03-16 14:24:02,841 _________ DistutilsExecError\n",
      "2023-03-16 14:24:02,841 _________ DistutilsInternalError\n",
      "2023-03-16 14:24:02,841 _________ DistutilsTemplateError\n",
      "2023-03-16 14:24:02,841 _________ DistutilsByteCompileError\n",
      "2023-03-16 14:24:02,841 _________ RemovedCommandError\n",
      "2023-03-16 14:24:02,841 _________ PackageDiscoveryError\n",
      "2023-03-16 14:24:02,841 ______ CCompilerError\n",
      "2023-03-16 14:24:02,841 _________ PreprocessError\n",
      "2023-03-16 14:24:02,841 _________ CompileError\n",
      "2023-03-16 14:24:02,841 _________ LibError\n",
      "2023-03-16 14:24:02,841 _________ LinkError\n",
      "2023-03-16 14:24:02,842 _________ UnknownFileError\n",
      "2023-03-16 14:24:02,842 ______ Error\n",
      "2023-03-16 14:24:02,842 _________ NoSectionError\n",
      "2023-03-16 14:24:02,842 _________ DuplicateSectionError\n",
      "2023-03-16 14:24:02,842 _________ DuplicateOptionError\n",
      "2023-03-16 14:24:02,842 _________ NoOptionError\n",
      "2023-03-16 14:24:02,842 _________ InterpolationError\n",
      "2023-03-16 14:24:02,842 ____________ InterpolationMissingOptionError\n",
      "2023-03-16 14:24:02,842 ____________ InterpolationSyntaxError\n",
      "2023-03-16 14:24:02,842 ____________ InterpolationDepthError\n",
      "2023-03-16 14:24:02,842 _________ ParsingError\n",
      "2023-03-16 14:24:02,842 ____________ MissingSectionHeaderError\n",
      "2023-03-16 14:24:02,842 ______ ExpatError\n",
      "2023-03-16 14:24:02,842 ______ error\n",
      "2023-03-16 14:24:02,842 ______ com_error\n",
      "2023-03-16 14:24:02,842 ______ internal_error\n",
      "2023-03-16 14:24:02,842 ______ ParseBaseException\n",
      "2023-03-16 14:24:02,842 _________ ParseException\n",
      "2023-03-16 14:24:02,843 _________ ParseFatalException\n",
      "2023-03-16 14:24:02,843 ____________ ParseSyntaxException\n",
      "2023-03-16 14:24:02,843 ______ RecursiveGrammarException\n",
      "2023-03-16 14:24:02,843 ______ ResolutionError\n",
      "2023-03-16 14:24:02,843 _________ VersionConflict\n",
      "2023-03-16 14:24:02,843 ____________ ContextualVersionConflict\n",
      "2023-03-16 14:24:02,843 _________ DistributionNotFound\n",
      "2023-03-16 14:24:02,843 _________ UnknownExtra\n",
      "2023-03-16 14:24:02,843 ______ ParseBaseException\n",
      "2023-03-16 14:24:02,843 _________ ParseException\n",
      "2023-03-16 14:24:02,843 _________ ParseFatalException\n",
      "2023-03-16 14:24:02,843 ____________ ParseSyntaxException\n",
      "2023-03-16 14:24:02,843 ______ RecursiveGrammarException\n",
      "2023-03-16 14:24:02,843 ______ Error\n",
      "2023-03-16 14:24:02,843 ______ Unresolved\n",
      "2023-03-16 14:24:02,843 ______ SkipTest\n",
      "2023-03-16 14:24:02,843 ______ _ShouldStop\n",
      "2023-03-16 14:24:02,844 ______ _UnexpectedSuccess\n",
      "2023-03-16 14:24:02,844 ______ Error\n",
      "2023-03-16 14:24:02,844 _________ ProtocolError\n",
      "2023-03-16 14:24:02,844 _________ ResponseError\n",
      "2023-03-16 14:24:02,844 _________ Fault\n",
      "2023-03-16 14:24:02,844 ______ UnableToResolveVariableException\n",
      "2023-03-16 14:24:02,844 ______ InvalidTypeInArgsException\n",
      "2023-03-16 14:24:02,844 ___ GeneratorExit\n",
      "2023-03-16 14:24:02,844 ___ SystemExit\n",
      "2023-03-16 14:24:02,844 ___ KeyboardInterrupt\n",
      "2023-03-16 14:24:02,844 ___ CancelledError\n",
      "2023-03-16 14:24:02,844 ___ AbortThread\n",
      "2023-03-16 14:24:02,844 ___ AbortThread\n",
      "2023-03-16 14:24:02,844 ___ DebuggerInitializationError\n",
      "\n"
     ]
    }
   ],
   "source": [
    "with open(\"13_feb.log\",\"r\") as f:\n",
    "    print(f.read())"
   ]
  },
  {
   "cell_type": "markdown",
   "id": "aca64400",
   "metadata": {},
   "source": [
    "### Q3. What errors are defined in the ArithmeticError class? Explain any two with an example."
   ]
  },
  {
   "cell_type": "markdown",
   "id": "0b8649a3",
   "metadata": {},
   "source": [
    "ArithmeticError:- In arithmetic error we get error related to mathematics like Zero divission error Floating point error etc"
   ]
  },
  {
   "cell_type": "code",
   "execution_count": 84,
   "id": "7c84c506",
   "metadata": {},
   "outputs": [],
   "source": [
    "##Zero division Error\n",
    "try:\n",
    "    15/0\n",
    "except ZeroDivisionError as e:\n",
    "    logging.error(\"Capturing error {}\".format(e))"
   ]
  },
  {
   "cell_type": "code",
   "execution_count": 85,
   "id": "e1ade507",
   "metadata": {},
   "outputs": [
    {
     "name": "stdout",
     "output_type": "stream",
     "text": [
      "2023-03-16 14:35:22,142 Capturing error division by zero\n",
      "\n"
     ]
    }
   ],
   "source": [
    "with open(\"13_feb.log\",\"r\") as f:\n",
    "    print(f.read())"
   ]
  },
  {
   "cell_type": "code",
   "execution_count": 86,
   "id": "e3b21a52",
   "metadata": {},
   "outputs": [],
   "source": [
    "##Over flow error \n",
    "x=8.0\n",
    "try:\n",
    "    for i in range (1,1000):\n",
    "        x=x**i\n",
    "except OverflowError as e:\n",
    "    logging.error(\"Over flow error {}\".format(e))\n",
    "    "
   ]
  },
  {
   "cell_type": "code",
   "execution_count": 87,
   "id": "015bcfd2",
   "metadata": {},
   "outputs": [
    {
     "name": "stdout",
     "output_type": "stream",
     "text": [
      "2023-03-16 14:35:22,142 Capturing error division by zero\n",
      "2023-03-16 14:35:23,591 Over flow error (34, 'Result too large')\n",
      "\n"
     ]
    }
   ],
   "source": [
    "with open(\"13_feb.log\",\"r\") as f:\n",
    "    print(f.read())"
   ]
  },
  {
   "cell_type": "markdown",
   "id": "2c4699c7",
   "metadata": {},
   "source": [
    "### Q4. Why LookupError class is used? Explain with an example KeyError and IndexError."
   ]
  },
  {
   "cell_type": "markdown",
   "id": "6529f84f",
   "metadata": {},
   "source": [
    "LookupError class is a built-in exception class in python that serves as a base class for all errors that occcur when a specificed key or index is not found in a mapping or sequence, respectively. it is used to handle lookup-related errors in python."
   ]
  },
  {
   "cell_type": "code",
   "execution_count": 89,
   "id": "7e4d8579",
   "metadata": {},
   "outputs": [],
   "source": [
    "l1=[\"Saksham\",9333,\"sharma\",987878]"
   ]
  },
  {
   "cell_type": "code",
   "execution_count": 91,
   "id": "7a4f35f1",
   "metadata": {},
   "outputs": [
    {
     "data": {
      "text/plain": [
       "987878"
      ]
     },
     "execution_count": 91,
     "metadata": {},
     "output_type": "execute_result"
    }
   ],
   "source": [
    "l1[3]"
   ]
  },
  {
   "cell_type": "code",
   "execution_count": 92,
   "id": "aeaeed3f",
   "metadata": {},
   "outputs": [
    {
     "ename": "IndexError",
     "evalue": "list index out of range",
     "output_type": "error",
     "traceback": [
      "\u001b[1;31m---------------------------------------------------------------------------\u001b[0m",
      "\u001b[1;31mIndexError\u001b[0m                                Traceback (most recent call last)",
      "Input \u001b[1;32mIn [92]\u001b[0m, in \u001b[0;36m<cell line: 1>\u001b[1;34m()\u001b[0m\n\u001b[1;32m----> 1\u001b[0m \u001b[43ml1\u001b[49m\u001b[43m[\u001b[49m\u001b[38;5;241;43m5\u001b[39;49m\u001b[43m]\u001b[49m\n",
      "\u001b[1;31mIndexError\u001b[0m: list index out of range"
     ]
    }
   ],
   "source": [
    "l1[5] ##give index error because index out of range"
   ]
  },
  {
   "cell_type": "code",
   "execution_count": 100,
   "id": "e088c5e2",
   "metadata": {},
   "outputs": [],
   "source": [
    "try:\n",
    "    l1[5]\n",
    "except IndexError as e:\n",
    "    logging.info(\"Try to call a element which is not in range:-  {}\".format(e))\n",
    "    \n"
   ]
  },
  {
   "cell_type": "code",
   "execution_count": 101,
   "id": "e6ed4973",
   "metadata": {},
   "outputs": [
    {
     "name": "stdout",
     "output_type": "stream",
     "text": [
      "2023-03-16 15:16:41,993 Try to call a element which is not in range:-  list index out of range\n",
      "\n"
     ]
    }
   ],
   "source": [
    "with open(\"13_feb.log\",\"r\") as f:\n",
    "    print(f.read())"
   ]
  },
  {
   "cell_type": "code",
   "execution_count": 117,
   "id": "0c060bb6",
   "metadata": {},
   "outputs": [],
   "source": [
    "d={\"name\":\"Saksham\",\"course\":\"DS\"}"
   ]
  },
  {
   "cell_type": "code",
   "execution_count": 118,
   "id": "ffda5028",
   "metadata": {},
   "outputs": [
    {
     "data": {
      "text/plain": [
       "'Saksham'"
      ]
     },
     "execution_count": 118,
     "metadata": {},
     "output_type": "execute_result"
    }
   ],
   "source": [
    "d[\"name\"]"
   ]
  },
  {
   "cell_type": "code",
   "execution_count": 119,
   "id": "a19c0c0e",
   "metadata": {},
   "outputs": [
    {
     "ename": "KeyError",
     "evalue": "'price'",
     "output_type": "error",
     "traceback": [
      "\u001b[1;31m---------------------------------------------------------------------------\u001b[0m",
      "\u001b[1;31mKeyError\u001b[0m                                  Traceback (most recent call last)",
      "Input \u001b[1;32mIn [119]\u001b[0m, in \u001b[0;36m<cell line: 1>\u001b[1;34m()\u001b[0m\n\u001b[1;32m----> 1\u001b[0m \u001b[43md\u001b[49m\u001b[43m[\u001b[49m\u001b[38;5;124;43m\"\u001b[39;49m\u001b[38;5;124;43mprice\u001b[39;49m\u001b[38;5;124;43m\"\u001b[39;49m\u001b[43m]\u001b[49m\n",
      "\u001b[1;31mKeyError\u001b[0m: 'price'"
     ]
    }
   ],
   "source": [
    "d[\"price\"] ##getting Key error"
   ]
  },
  {
   "cell_type": "code",
   "execution_count": 120,
   "id": "81ac24ff",
   "metadata": {},
   "outputs": [],
   "source": [
    "try:\n",
    "    d[\"price\"]\n",
    "except KeyError as e:\n",
    "    logging.error(\"{}\".format(e))"
   ]
  },
  {
   "cell_type": "code",
   "execution_count": 121,
   "id": "00e7e176",
   "metadata": {},
   "outputs": [
    {
     "name": "stdout",
     "output_type": "stream",
     "text": [
      "2023-03-16 15:16:41,993 Try to call a element which is not in range:-  list index out of range\n",
      "2023-03-16 15:21:44,758 'price'\n",
      "\n"
     ]
    }
   ],
   "source": [
    "with open(\"13_feb.log\",\"r\") as f:\n",
    "    print(f.read())"
   ]
  },
  {
   "cell_type": "markdown",
   "id": "0b076064",
   "metadata": {},
   "source": [
    "### Q5. Explain ImportError. What is ModuleNotFoundError?"
   ]
  },
  {
   "cell_type": "markdown",
   "id": "e811c8b5",
   "metadata": {},
   "source": [
    "ImportError and ModuleNotFoundError are both Python exceptions that occur when there is an issue with importing a module.\n",
    "\n",
    "#### ImportError\n",
    "it is a general exception that is raised when a module is not found or there is an error during the import process. This can happen when a module or package is missing, or when there is a syntax error or other issue in the module that prevents it from being imported.\n",
    "\n",
    "#### ModuleNotFoundError\n",
    "it is a more specific exception that is raised when a module could not be found during the import process. This exception was introduced in Python 3.6 as a more specific alternative to ImportError. When a module or package cannot be found, Python raises ModuleNotFoundError instead of the more general ImportError.\n",
    "\n",
    "In short, ModuleNotFoundError is a more specific version of ImportError that specifically indicates that a module could not be found during the import process."
   ]
  },
  {
   "cell_type": "code",
   "execution_count": 135,
   "id": "9d78b852",
   "metadata": {},
   "outputs": [
    {
     "ename": "ModuleNotFoundError",
     "evalue": "No module named 'hii'",
     "output_type": "error",
     "traceback": [
      "\u001b[1;31m---------------------------------------------------------------------------\u001b[0m",
      "\u001b[1;31mModuleNotFoundError\u001b[0m                       Traceback (most recent call last)",
      "Input \u001b[1;32mIn [135]\u001b[0m, in \u001b[0;36m<cell line: 1>\u001b[1;34m()\u001b[0m\n\u001b[1;32m----> 1\u001b[0m \u001b[38;5;28;01mimport\u001b[39;00m \u001b[38;5;21;01mhii\u001b[39;00m \u001b[38;5;66;03m## getting error because this model doesnot exixt\u001b[39;00m\n\u001b[0;32m      2\u001b[0m \u001b[38;5;28;01mdef\u001b[39;00m \u001b[38;5;21mgreetings\u001b[39m(name): \n\u001b[0;32m      3\u001b[0m     \u001b[38;5;28mprint\u001b[39m(\u001b[38;5;124m\"\u001b[39m\u001b[38;5;124mhii\u001b[39m\u001b[38;5;124m\"\u001b[39m,name)\n",
      "\u001b[1;31mModuleNotFoundError\u001b[0m: No module named 'hii'"
     ]
    }
   ],
   "source": [
    "import hii ## getting error because this model doesnot exixt\n",
    "def greetings(name): \n",
    "    print(\"hii\",name)\n"
   ]
  },
  {
   "cell_type": "code",
   "execution_count": 134,
   "id": "8634c4df",
   "metadata": {},
   "outputs": [
    {
     "name": "stdout",
     "output_type": "stream",
     "text": [
      "hii Saksham\n"
     ]
    }
   ],
   "source": [
    "try:\n",
    "    import hii\n",
    "    def greetings(name):\n",
    "        logging.info(\"hii {}.format(name)\")\n",
    "except ModuleNotFoundError as e:\n",
    "    logging.error(\"{}\".format(e))\n",
    "    \n",
    "greetings(\"Saksham\")\n",
    "\n"
   ]
  },
  {
   "cell_type": "code",
   "execution_count": 137,
   "id": "524188ad",
   "metadata": {},
   "outputs": [
    {
     "name": "stdout",
     "output_type": "stream",
     "text": [
      "2023-03-16 15:16:41,993 Try to call a element which is not in range:-  list index out of range\n",
      "2023-03-16 15:21:44,758 'price'\n",
      "2023-03-16 15:39:45,034 No module named 'hii'\n",
      "2023-03-16 15:41:11,838 No module named 'hii'\n",
      "\n"
     ]
    }
   ],
   "source": [
    "with open(\"13_feb.log\",\"r\") as f:\n",
    "    print(f.read())"
   ]
  },
  {
   "cell_type": "markdown",
   "id": "606b20b6",
   "metadata": {},
   "source": [
    "### Q6. List down some best practices for exception handling in python. "
   ]
  },
  {
   "cell_type": "code",
   "execution_count": 138,
   "id": "13504f33",
   "metadata": {},
   "outputs": [],
   "source": [
    "## use always a specific exception\n",
    "## print always a proper message\n",
    "## always try to log your error\n",
    "## always avoid to write a multipe exception handling\n",
    "## Document all the error with proper meaning\n",
    "## cleanup all the resources"
   ]
  },
  {
   "cell_type": "markdown",
   "id": "07223005",
   "metadata": {},
   "source": [
    "#### Use specific exception handling:\n",
    "Catch specific exceptions instead of using a generic Exception catch-all. This will make it easier to identify and fix issues and avoid masking other errors.\n",
    "\n",
    "#### Keep try blocks small:\n",
    "Put only the code that can potentially raise an exception inside the try block, keeping the block as small as possible. This will make it easier to identify the code that's causing the issue.\n",
    "\n",
    "#### Use multiple except blocks:\n",
    "Use multiple except blocks, each handling a specific exception type. This will make the code easier to understand and help avoid hiding errors.\n",
    "\n",
    "#### Avoid catching too broadly: \n",
    "Avoid catching exceptions too broadly as it can make it harder to debug errors.\n",
    "\n",
    "#### Use finally block: \n",
    "Use a finally block to perform cleanup operations, such as closing files or network connections. This block will execute regardless of whether an exception is raised.\n",
    "\n",
    "#### Log exceptions:\n",
    "Use a logging framework to log exceptions and error messages. This will help to debug issues and monitor the system.\n",
    "\n",
    "#### Raise exceptions when needed:\n",
    "Raise exceptions when an error condition is detected. This will help to communicate issues to calling code.\n",
    "\n",
    "#### Use context managers:\n",
    "Use context managers to automatically manage resources such as files or database connections. This will ensure that resources are always properly closed, even in the case of an exception.\n",
    "\n",
    "#### Handle exceptions at the appropriate level: \n",
    "Handle exceptions at the appropriate level, whether it's at the module, application or system level.\n",
    "\n",
    "#### Document your code: \n",
    "Document your code to explain why you're raising an exception and how the exception should be handled. This will help others who are working on your code to understand it better."
   ]
  },
  {
   "cell_type": "code",
   "execution_count": null,
   "id": "88ef3ac7",
   "metadata": {},
   "outputs": [],
   "source": []
  }
 ],
 "metadata": {
  "kernelspec": {
   "display_name": "Python 3 (ipykernel)",
   "language": "python",
   "name": "python3"
  },
  "language_info": {
   "codemirror_mode": {
    "name": "ipython",
    "version": 3
   },
   "file_extension": ".py",
   "mimetype": "text/x-python",
   "name": "python",
   "nbconvert_exporter": "python",
   "pygments_lexer": "ipython3",
   "version": "3.9.12"
  }
 },
 "nbformat": 4,
 "nbformat_minor": 5
}
