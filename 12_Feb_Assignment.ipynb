{
 "cells": [
  {
   "cell_type": "markdown",
   "id": "00d05d9e",
   "metadata": {},
   "source": [
    "### Q1. What is an Exception in python? Write the difference between Exceptions and Syntax errors."
   ]
  },
  {
   "cell_type": "markdown",
   "id": "739c1119",
   "metadata": {},
   "source": [
    "In python Exception is atype of error that occurs during the execution of a program due to unexpected circumstances or errors in the logic of the program.when an exception occurs, the program stops execution and prints an error message describing the issue.\n",
    "\n",
    "Exceptions are raised by python interpreter or by the programmers's code.There are many built-in exceptions in python like ZeroDivisionError, TypeError, NameError, etc. However,we can also define our own custom exceptions by creating a new class that inherits from the Exception class.\n",
    "\n",
    "Syntax error,on the other hand, occur when the code violates the syntax rules of python.Syntax errors are typically detected by the Python interpreter before the code is executed.Example of syntax errors including foregetting to close a parenthesis\n",
    "\n",
    "The main difference between Exception and Syntax errors is that syntax errors occur during the compilation or parsing of the code and must be fixed before the code can be executed.Exceptions, on the other hand, occur during the execution of the code and can be handled by the program through the use of try-except statements. when an exception occurs,the program can catch the exception, take corrective action, and continue execution."
   ]
  },
  {
   "cell_type": "markdown",
   "id": "cd81ae80",
   "metadata": {},
   "source": [
    "### Q2. What happens when an exception is not handled? Explain with an example."
   ]
  },
  {
   "cell_type": "markdown",
   "id": "07f5ad7c",
   "metadata": {},
   "source": [
    "when an exception is not handled it can stop our program to execute for eg."
   ]
  },
  {
   "cell_type": "code",
   "execution_count": 1,
   "id": "b088446c",
   "metadata": {},
   "outputs": [],
   "source": [
    "import logging\n",
    "logging.basicConfig(filename=\"Divisible.log\",level=logging.DEBUG, format='%(asctime)s - %(levelname)s - %(message)s')\n"
   ]
  },
  {
   "cell_type": "code",
   "execution_count": 6,
   "id": "43275bc0",
   "metadata": {},
   "outputs": [
    {
     "ename": "FileNotFoundError",
     "evalue": "[Errno 2] No such file or directory: 'Divisible.txt'",
     "output_type": "error",
     "traceback": [
      "\u001b[1;31m---------------------------------------------------------------------------\u001b[0m",
      "\u001b[1;31mFileNotFoundError\u001b[0m                         Traceback (most recent call last)",
      "Input \u001b[1;32mIn [6]\u001b[0m, in \u001b[0;36m<cell line: 1>\u001b[1;34m()\u001b[0m\n\u001b[1;32m----> 1\u001b[0m f\u001b[38;5;241m=\u001b[39m\u001b[38;5;28;43mopen\u001b[39;49m\u001b[43m(\u001b[49m\u001b[38;5;124;43m\"\u001b[39;49m\u001b[38;5;124;43mDivisible.txt\u001b[39;49m\u001b[38;5;124;43m\"\u001b[39;49m\u001b[43m,\u001b[49m\u001b[38;5;124;43m\"\u001b[39;49m\u001b[38;5;124;43mr\u001b[39;49m\u001b[38;5;124;43m\"\u001b[39;49m\u001b[43m)\u001b[49m\n\u001b[0;32m      2\u001b[0m logging\u001b[38;5;241m.\u001b[39minfo(\u001b[38;5;124m\"\u001b[39m\u001b[38;5;124mopen the file\u001b[39m\u001b[38;5;124m\"\u001b[39m)\n\u001b[0;32m      3\u001b[0m \u001b[38;5;28mprint\u001b[39m(\u001b[38;5;124m\"\u001b[39m\u001b[38;5;124mHii\u001b[39m\u001b[38;5;124m\"\u001b[39m)\n",
      "\u001b[1;31mFileNotFoundError\u001b[0m: [Errno 2] No such file or directory: 'Divisible.txt'"
     ]
    }
   ],
   "source": [
    "f=open(\"Divisible.txt\",\"r\")\n",
    "logging.info(\"open the file\")\n",
    "print(\"Hii\")\n",
    "logging.info(\"run print statement\")"
   ]
  },
  {
   "cell_type": "markdown",
   "id": "80b1dad7",
   "metadata": {},
   "source": [
    "#### if we do not handle exception in program.Due to  the error program stop working and print statement do not work in runtime,In deployement we use exceptions handaling to deal with this issues "
   ]
  },
  {
   "cell_type": "code",
   "execution_count": 10,
   "id": "5a67e2f6",
   "metadata": {},
   "outputs": [
    {
     "name": "stdout",
     "output_type": "stream",
     "text": [
      "this is a exceptional block [Errno 2] No such file or directory: 'Divisible.txt'\n",
      "Hii\n"
     ]
    }
   ],
   "source": [
    "try:\n",
    "    f=open(\"Divisible.txt\",\"r\")\n",
    "    logging.info(\"open file\")\n",
    "except Exception as e:\n",
    "    print(\"this is a exceptional block\" , e)\n",
    "    logging.info(\"File does not exit\")\n",
    "print(\"Hii\")"
   ]
  },
  {
   "cell_type": "markdown",
   "id": "641dad5a",
   "metadata": {},
   "source": [
    "#### now using exceptional handling error generate but our program do not stop work and print statement execute"
   ]
  },
  {
   "cell_type": "markdown",
   "id": "27928ce4",
   "metadata": {},
   "source": [
    "### Q3. Which python statements are used to catch and handle exceptions? Explain with an example."
   ]
  },
  {
   "cell_type": "markdown",
   "id": "0a934c4e",
   "metadata": {},
   "source": [
    "try statements is used to catch or raise the error and except is used to handle errors."
   ]
  },
  {
   "cell_type": "code",
   "execution_count": 29,
   "id": "2127e4b3",
   "metadata": {},
   "outputs": [
    {
     "name": "stdout",
     "output_type": "stream",
     "text": [
      "Enter a number:- 0\n",
      "Cannot divide by zero.\n"
     ]
    }
   ],
   "source": [
    "try:\n",
    "    x=int(input(\"Enter a number:- \"))\n",
    "    logging.info(\"user enter a number\")\n",
    "    y=10/x\n",
    "    print(\"The result is:\",y)\n",
    "    logging.info(\"program run without any error\")\n",
    "except ValueError:\n",
    "    print(\"Invalid input. Please enter a number. \")\n",
    "    logging.error(\"invalid input\")\n",
    "except ZeroDivisionError:\n",
    "    print(\"Cannot divide by zero.\")\n",
    "    logging.error(\"ZeroDivisionError\")\n",
    "except :\n",
    "    print(\"An error occured.\")\n",
    "    logging.error(\"An error occured.\")"
   ]
  },
  {
   "cell_type": "markdown",
   "id": "777d338b",
   "metadata": {},
   "source": [
    "If an exception is raised in the try block, the code in the corresponding except block will be executed. If no exception is raised, the except block(s) will be skipped.\n",
    "\n",
    "\n",
    "By catching and handling exceptions, we can prevent our program from crashing and provide a more user-friendly error message. It also allows us to take different actions depending on the type of error that occurred."
   ]
  },
  {
   "cell_type": "markdown",
   "id": "a62d1cbf",
   "metadata": {},
   "source": [
    "### Q4. Explain with an example:\n",
    "    a.try and else\n",
    "    b finally\n",
    "    c.raise\n"
   ]
  },
  {
   "cell_type": "markdown",
   "id": "c73ab47d",
   "metadata": {},
   "source": [
    "#### try and else:-"
   ]
  },
  {
   "cell_type": "markdown",
   "id": "5a907deb",
   "metadata": {},
   "source": [
    "in try if exception is raised .the code in the corresponding except block will be executed. if no exception is raised , the except block will be skipped\n",
    "\n",
    "else block executed only if try block executed without any error"
   ]
  },
  {
   "cell_type": "code",
   "execution_count": 37,
   "id": "317d3cd2",
   "metadata": {},
   "outputs": [
    {
     "name": "stdout",
     "output_type": "stream",
     "text": [
      "else only execute when try block execute without any error\n"
     ]
    }
   ],
   "source": [
    "try:\n",
    "    with open (\"Divisible.txt\",\"r\") as f:\n",
    "        logging.info(\"open already exit file\")\n",
    "        \n",
    "except Exception as e:\n",
    "    logging.error(e)\n",
    "else:\n",
    "    print(\"else only execute when try block execute without any error\")"
   ]
  },
  {
   "cell_type": "code",
   "execution_count": 39,
   "id": "c1ece8a1",
   "metadata": {},
   "outputs": [
    {
     "name": "stdout",
     "output_type": "stream",
     "text": [
      "[Errno 2] No such file or directory: 'Divisible.txt2'\n"
     ]
    }
   ],
   "source": [
    "try:\n",
    "    with open (\"Divisible.txt2\",\"r\") as f:\n",
    "        logging.info(\"open already exit file\")\n",
    "        \n",
    "except Exception as e:\n",
    "    logging.error(e)\n",
    "    print(e)\n",
    "else:\n",
    "    print(\"else only execute when try block execute without any error\")"
   ]
  },
  {
   "cell_type": "markdown",
   "id": "82fd9b80",
   "metadata": {},
   "source": [
    "### else block not execute because there is an error in try"
   ]
  },
  {
   "cell_type": "markdown",
   "id": "3510a9ff",
   "metadata": {},
   "source": [
    "### finally"
   ]
  },
  {
   "cell_type": "markdown",
   "id": "01160500",
   "metadata": {},
   "source": [
    "finally block run at any condition it does not depend on any block"
   ]
  },
  {
   "cell_type": "code",
   "execution_count": 40,
   "id": "15da948c",
   "metadata": {},
   "outputs": [
    {
     "name": "stdout",
     "output_type": "stream",
     "text": [
      "[Errno 2] No such file or directory: 'Divisible.txt2'\n",
      "finally block  is always executed, regardless of whether an exception is raised or not\n"
     ]
    }
   ],
   "source": [
    "try:\n",
    "    with open (\"Divisible.txt2\",\"r\") as f:\n",
    "        logging.info(\"open already exit file\")\n",
    "        \n",
    "except Exception as e:\n",
    "    logging.error(e)\n",
    "    print(e)\n",
    "else:\n",
    "    print(\"else only execute when try block execute without any error\")\n",
    "    \n",
    "finally:\n",
    "    print(\"finally block  is always executed, regardless of whether an exception is raised or not\")\n",
    "    "
   ]
  },
  {
   "cell_type": "markdown",
   "id": "4570c49b",
   "metadata": {},
   "source": [
    "### raise"
   ]
  },
  {
   "cell_type": "markdown",
   "id": "d34017e0",
   "metadata": {},
   "source": [
    "raise is use when we making our custom exception or raise statement is used to raise an exception manually"
   ]
  },
  {
   "cell_type": "code",
   "execution_count": 64,
   "id": "5e78b404",
   "metadata": {},
   "outputs": [],
   "source": [
    "class NegativeNumberError(Exception):\n",
    "    pass"
   ]
  },
  {
   "cell_type": "code",
   "execution_count": 80,
   "id": "bcc63511",
   "metadata": {},
   "outputs": [
    {
     "name": "stdout",
     "output_type": "stream",
     "text": [
      "Enter a positive number: -9\n",
      "Error: Number must be positive.\n"
     ]
    }
   ],
   "source": [
    "try:\n",
    "    x = int(input(\"Enter a positive number: \"))\n",
    "    logging.info(\"taking input\")\n",
    "    if x < 0:\n",
    "        logging.info(\"raise negative error if x<0\")\n",
    "        raise NegativeNumberError(\"Number must be positive.\")\n",
    "except ValueError:\n",
    "    logging.error(\"Invalid input\")\n",
    "    print(\"Invalid input. Please enter a number.\")\n",
    "except NegativeNumberError as e:\n",
    "    logging.error(\"Negativenumber error\")\n",
    "    print(\"Error:\", e)"
   ]
  },
  {
   "cell_type": "markdown",
   "id": "8d2a0d33",
   "metadata": {},
   "source": [
    "### Q6:- Create a custom exception class. use this class to handle an exception"
   ]
  },
  {
   "cell_type": "code",
   "execution_count": 74,
   "id": "6d4ad4a3",
   "metadata": {},
   "outputs": [],
   "source": [
    "class endwith(Exception):\n",
    "    pass"
   ]
  },
  {
   "cell_type": "code",
   "execution_count": 83,
   "id": "72032078",
   "metadata": {},
   "outputs": [
    {
     "name": "stdout",
     "output_type": "stream",
     "text": [
      "Enter a string that end with m aabaaac\n",
      "Error: Number end mith m only\n"
     ]
    }
   ],
   "source": [
    "try:\n",
    "    x=input(\"Enter a string that end with m \")\n",
    "    logging.info(\"taking string \")\n",
    "    if x.endswith('m') is False:\n",
    "        raise endwith(\"Number end mith m only\")\n",
    "except endwith as e:\n",
    "    logging.error(e)\n",
    "    print(\"Error:\", e)\n",
    "else:\n",
    "    print(x)"
   ]
  },
  {
   "cell_type": "code",
   "execution_count": null,
   "id": "291d94ec",
   "metadata": {},
   "outputs": [],
   "source": []
  }
 ],
 "metadata": {
  "kernelspec": {
   "display_name": "Python 3 (ipykernel)",
   "language": "python",
   "name": "python3"
  },
  "language_info": {
   "codemirror_mode": {
    "name": "ipython",
    "version": 3
   },
   "file_extension": ".py",
   "mimetype": "text/x-python",
   "name": "python",
   "nbconvert_exporter": "python",
   "pygments_lexer": "ipython3",
   "version": "3.9.12"
  }
 },
 "nbformat": 4,
 "nbformat_minor": 5
}
