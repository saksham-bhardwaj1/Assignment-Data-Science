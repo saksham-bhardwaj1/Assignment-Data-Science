{
 "cells": [
  {
   "cell_type": "markdown",
   "id": "6c8ee1e9",
   "metadata": {},
   "source": [
    "### 1.Explain with an example each when to use a for loop and a while loop"
   ]
  },
  {
   "cell_type": "markdown",
   "id": "ca5057d6",
   "metadata": {},
   "source": [
    "we use while loop when we have to iterate over a function through certain conditions or we don't know how much time we have to iterate.In while loop when our condition fails our loop stop working "
   ]
  },
  {
   "cell_type": "code",
   "execution_count": 92,
   "id": "708a182a",
   "metadata": {},
   "outputs": [
    {
     "name": "stdout",
     "output_type": "stream",
     "text": [
      "Enter your name:- Saksham\n",
      "Plz enter the number how much time you print your name:- 5\n",
      "Saksham\n",
      "Saksham\n",
      "Saksham\n",
      "Saksham\n",
      "Saksham\n"
     ]
    }
   ],
   "source": [
    "n=input(\"Enter your name:- \")\n",
    "num=int(input(\"Plz enter the number how much time you print your name:- \"))\n",
    "while num>0:\n",
    "    print(n)\n",
    "    num=num-1"
   ]
  },
  {
   "cell_type": "markdown",
   "id": "a3f8859c",
   "metadata": {},
   "source": [
    "we use for loop when we have to iterate over a range or we use for loop when we know the how much time we have to iterate over loop"
   ]
  },
  {
   "cell_type": "code",
   "execution_count": 10,
   "id": "8526949e",
   "metadata": {},
   "outputs": [
    {
     "name": "stdout",
     "output_type": "stream",
     "text": [
      "Saksham\n",
      "Saksham\n",
      "Saksham\n",
      "Saksham\n",
      "Saksham\n"
     ]
    }
   ],
   "source": [
    "for i in range(5):\n",
    "    print(\"Saksham\")"
   ]
  },
  {
   "cell_type": "markdown",
   "id": "5640676a",
   "metadata": {},
   "source": [
    "### 2. wap to print the sum and product of the first 10 natural number using for and while"
   ]
  },
  {
   "cell_type": "markdown",
   "id": "28486ef3",
   "metadata": {},
   "source": [
    "### for loop"
   ]
  },
  {
   "cell_type": "code",
   "execution_count": 39,
   "id": "724ba1f7",
   "metadata": {},
   "outputs": [
    {
     "name": "stdout",
     "output_type": "stream",
     "text": [
      "The sum of the first 10 natural number is: 55\n",
      "The sum of the first 10 natural number is: 3628800\n"
     ]
    }
   ],
   "source": [
    "l=[1,2,3,4,5,6,7,8,9,10]\n",
    "addition =0\n",
    "product =1\n",
    "for i in l:\n",
    "    addition=addition+i\n",
    "    product=product*i\n",
    "    \n",
    "print(\"The sum of the first 10 natural number is:\" ,addition)\n",
    "print(\"The sum of the first 10 natural number is:\" ,product)\n",
    "    \n",
    "\n",
    "    \n"
   ]
  },
  {
   "cell_type": "markdown",
   "id": "585ec97a",
   "metadata": {},
   "source": [
    "### While loop"
   ]
  },
  {
   "cell_type": "code",
   "execution_count": 29,
   "id": "cb588f67",
   "metadata": {},
   "outputs": [
    {
     "name": "stdout",
     "output_type": "stream",
     "text": [
      "The sum of the first 10 natural number is: 55\n",
      "The sum of the first 10 natural number is: 3628800\n"
     ]
    }
   ],
   "source": [
    "addition=0\n",
    "product=1\n",
    "i=1\n",
    "while i<=10:\n",
    "    addition+=i\n",
    "    product*=i\n",
    "    i+=1\n",
    "print(\"The sum of the first 10 natural number is:\" ,addition)\n",
    "print(\"The sum of the first 10 natural number is:\" ,product)"
   ]
  },
  {
   "cell_type": "markdown",
   "id": "6c8143e3",
   "metadata": {},
   "source": [
    "### 3Wap to compute electricity bill for a household. "
   ]
  },
  {
   "cell_type": "code",
   "execution_count": 41,
   "id": "041988b2",
   "metadata": {},
   "outputs": [
    {
     "name": "stdout",
     "output_type": "stream",
     "text": [
      "Enter your units of electricity consumed in a month:- 310\n",
      "Your electricity bill is  2250.0\n"
     ]
    }
   ],
   "source": [
    "unit=int(input(\"Enter your units of electricity consumed in a month:- \"))\n",
    "amount=0\n",
    "if unit<=100:\n",
    "    amount=unit*4.5\n",
    "elif unit<=200:\n",
    "    amount=100*4.5+(unit-100)*6\n",
    "elif unit <=300:\n",
    "    amount=100*4.5+100*6+(unit-200)*10\n",
    "else:\n",
    "    amount=100*4.5+100*6+100*10+(unit-300)*20\n",
    "\n",
    "print(\"Your electricity bill is \", amount)\n",
    "    \n",
    "    \n",
    "\n",
    "    \n",
    "    "
   ]
  },
  {
   "cell_type": "markdown",
   "id": "b1b3400f",
   "metadata": {},
   "source": [
    "### 4. Create a list of number from 1 to 100 .use for loop and while loop to calculate the cube of each number and if the cube of that number is divisible by 4 or 5 then append that number in a list and print that list."
   ]
  },
  {
   "cell_type": "markdown",
   "id": "dd79f5e5",
   "metadata": {},
   "source": [
    "### by using for loop"
   ]
  },
  {
   "cell_type": "code",
   "execution_count": 75,
   "id": "fdb5b438",
   "metadata": {},
   "outputs": [
    {
     "name": "stdout",
     "output_type": "stream",
     "text": [
      "[2, 4, 5, 6, 8, 10, 12, 14, 15, 16, 18, 20, 22, 24, 25, 26, 28, 30, 32, 34, 35, 36, 38, 40, 42, 44, 45, 46, 48, 50, 52, 54, 55, 56, 58, 60, 62, 64, 65, 66, 68, 70, 72, 74, 75, 76, 78, 80, 82, 84, 85, 86, 88, 90, 92, 94, 95, 96, 98, 100]\n"
     ]
    }
   ],
   "source": [
    "l1 = []\n",
    "for i in range(1, 101):\n",
    "    cube = i**3\n",
    "    if cube % 4 == 0 or cube % 5 == 0:\n",
    "        l1.append(i)\n",
    "\n",
    "print(l1)\n"
   ]
  },
  {
   "cell_type": "markdown",
   "id": "9725a35d",
   "metadata": {},
   "source": [
    "###  With while loop"
   ]
  },
  {
   "cell_type": "code",
   "execution_count": 77,
   "id": "71852b96",
   "metadata": {},
   "outputs": [
    {
     "name": "stdout",
     "output_type": "stream",
     "text": [
      "[2, 4, 5, 6, 8, 10, 12, 14, 15, 16, 18, 20, 22, 24, 25, 26, 28, 30, 32, 34, 35, 36, 38, 40, 42, 44, 45, 46, 48, 50, 52, 54, 55, 56, 58, 60, 62, 64, 65, 66, 68, 70, 72, 74, 75, 76, 78, 80, 82, 84, 85, 86, 88, 90, 92, 94, 95, 96, 98, 100]\n"
     ]
    }
   ],
   "source": [
    "l1=[]\n",
    "i=1\n",
    "while i <=100:\n",
    "    cube = i**3\n",
    "    if cube % 4 == 0 or cube % 5 == 0:\n",
    "        l1.append(i)\n",
    "    i=i+1\n",
    "print(l1)\n",
    "    "
   ]
  },
  {
   "cell_type": "markdown",
   "id": "a4302e8a",
   "metadata": {},
   "source": [
    "### 5.Wap to filter a count vowels in the below-given string.\n",
    "string=\"i want to become a data scientist\""
   ]
  },
  {
   "cell_type": "code",
   "execution_count": 90,
   "id": "c2d8047a",
   "metadata": {},
   "outputs": [
    {
     "name": "stdout",
     "output_type": "stream",
     "text": [
      "Vowels in string are  ['I', 'a', 'o', 'e', 'o', 'e', 'a', 'a', 'a', 'i', 'e', 'i']\n",
      "Totall vowels in a string are  12\n"
     ]
    }
   ],
   "source": [
    "string=\"I want to become a data scientist\"\n",
    "vowels=[]\n",
    "for i in string:\n",
    "    if i.lower() in ['a','e','i','o','u']:\n",
    "        vowels.append(i)\n",
    "print(\"Vowels in string are \", vowels)\n",
    "print(\"Total vowels in a string are \", len(vowels))\n",
    "      \n",
    "    \n",
    "    "
   ]
  },
  {
   "cell_type": "code",
   "execution_count": null,
   "id": "4760ac65",
   "metadata": {},
   "outputs": [],
   "source": []
  }
 ],
 "metadata": {
  "kernelspec": {
   "display_name": "Python 3 (ipykernel)",
   "language": "python",
   "name": "python3"
  },
  "language_info": {
   "codemirror_mode": {
    "name": "ipython",
    "version": 3
   },
   "file_extension": ".py",
   "mimetype": "text/x-python",
   "name": "python",
   "nbconvert_exporter": "python",
   "pygments_lexer": "ipython3",
   "version": "3.9.12"
  }
 },
 "nbformat": 4,
 "nbformat_minor": 5
}
