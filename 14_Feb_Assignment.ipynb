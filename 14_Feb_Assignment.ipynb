{
 "cells": [
  {
   "cell_type": "markdown",
   "id": "ddb90720",
   "metadata": {},
   "source": [
    "### Q1. What is multithreading in python? why is it used? Name the module used to handle threads in python"
   ]
  },
  {
   "cell_type": "markdown",
   "id": "022de2e0",
   "metadata": {},
   "source": [
    "Multithreading in Python means running multiple threads of execution simultaneously within a Python program. In this each thread runs independently of the others and allowing the program to perform multiple tasks at the same time.\n",
    "\n",
    "Multithreading is used in Python to improve the performance of applications that perform tasks that can be executed concurrently. This includes tasks such as reading and writing to files, network communication, and processing large datasets.\n",
    "\n",
    "The threading module is used to handle threads in python"
   ]
  },
  {
   "cell_type": "markdown",
   "id": "dddd2921",
   "metadata": {},
   "source": [
    "### Q2. Why threading module used? write the use of the following functions\n",
    "    activeCount()\n",
    "    currentThread()\n",
    "    enumerate()"
   ]
  },
  {
   "cell_type": "markdown",
   "id": "1ce7ef2a",
   "metadata": {},
   "source": [
    "threading module is used to implement threading in python or The threading module is used in Python to enable the creation, management, and synchronization of threads within a program \n",
    "\n",
    "###### The use of following functions:-\n",
    "##### activeCount():- \n",
    "This function return the number of Thread object that are active in the current Python interpreter.It helps us to keep track of how many threads are running in program and can be useful for debugging.\n",
    "##### currentThread():-\n",
    "This function is used to return the current thread object that is executing.It can be used to get information about the current thread or to pass the current thread as an argument to other functions.\n",
    "##### enumerate():-\n",
    "This function returns as a list of al the Thread objects that are currently active in the program. It can be used to get information about all the threads running in the program, such as their name or status\n"
   ]
  },
  {
   "cell_type": "markdown",
   "id": "fb8c869d",
   "metadata": {},
   "source": [
    "### Q3. Explain the following functions\n",
    "    run()\n",
    "    start()\n",
    "    join()\n",
    "    isAlive()"
   ]
  },
  {
   "cell_type": "markdown",
   "id": "cb4689a7",
   "metadata": {},
   "source": [
    "##### run():- \n",
    "This method is called when a thread is started using the start() method. It defines the behavior of the thread and contains the code that will run in the new thread of execution.\n",
    "\n",
    "##### start() :-\n",
    "This method is used to start a new thread of execution in the program. It creates a new thread and calls the run() method in that thread.\n",
    "##### join():-\n",
    "This method blocks the current thread until the thread it is called on completes execution. This is useful for waiting for a thread to finish before continuing execution in the current thread.\n",
    "##### isAlive():-\n",
    "This method returns a boolean value indicating whether the thread is currently executing or not. It returns True if the thread is running, and False otherwise.\n",
    "\n"
   ]
  },
  {
   "cell_type": "markdown",
   "id": "27a7526c",
   "metadata": {},
   "source": [
    "### Q4. write a python program to create two threads. Thread one must print the list of squares and thread two must print the list of cubes"
   ]
  },
  {
   "cell_type": "code",
   "execution_count": 1,
   "id": "c82bf5a9",
   "metadata": {},
   "outputs": [],
   "source": [
    "import threading\n",
    "import logging"
   ]
  },
  {
   "cell_type": "code",
   "execution_count": 2,
   "id": "27e2e94e",
   "metadata": {},
   "outputs": [],
   "source": [
    "logging.basicConfig(filename=\"assignment_14feb.log\",level=logging.DEBUG)"
   ]
  },
  {
   "cell_type": "code",
   "execution_count": 3,
   "id": "c4b3ad87",
   "metadata": {},
   "outputs": [],
   "source": [
    "def square(s):\n",
    "     logging.info(s**2)\n",
    "    \n",
    "def cube(c):\n",
    "    logging.info(c**3)\n",
    "    \n",
    "threading1=[threading.Thread(target=square ,args=(s,)) for s in range(10)]\n",
    "threading2=[threading.Thread(target=cube ,args=(c,)) for c in range(10)]\n",
    "\n",
    "for t1 in threading1:\n",
    "    t1.start()\n",
    "for t2 in threading2:\n",
    "    t2.start()\n",
    "    \n",
    "for t1 in threading1:\n",
    "    \n",
    "    t1.join()\n",
    "    \n",
    "for t2 in threading2:\n",
    "    \n",
    "    t2.join()\n",
    "    \n"
   ]
  },
  {
   "cell_type": "code",
   "execution_count": 5,
   "id": "8aa5c990",
   "metadata": {},
   "outputs": [
    {
     "name": "stdout",
     "output_type": "stream",
     "text": [
      "INFO:root:0\n",
      "INFO:root:1\n",
      "INFO:root:4\n",
      "INFO:root:9\n",
      "INFO:root:16\n",
      "INFO:root:25\n",
      "INFO:root:36\n",
      "INFO:root:49\n",
      "INFO:root:64\n",
      "INFO:root:81\n",
      "INFO:root:0\n",
      "INFO:root:1\n",
      "INFO:root:8\n",
      "INFO:root:27\n",
      "INFO:root:64\n",
      "INFO:root:125\n",
      "INFO:root:216\n",
      "INFO:root:343\n",
      "INFO:root:512\n",
      "INFO:root:729\n",
      "\n",
      "\n"
     ]
    }
   ],
   "source": [
    "with open(\"assignment_14feb.log\",\"r\") as f:\n",
    "    print(f.read())"
   ]
  },
  {
   "cell_type": "markdown",
   "id": "85a7a841",
   "metadata": {},
   "source": [
    "### Q5. State advantages and disadvantages of multithreading"
   ]
  },
  {
   "cell_type": "markdown",
   "id": "cf24b846",
   "metadata": {},
   "source": [
    "##### Advantages: \n",
    "##### Improved Performance: \n",
    "Multithreading allows a program to utilize multiple processors or cores of a CPU, which can significantly improve the performance of the program by running tasks simultaneously.\n",
    "\n",
    "##### Resource Sharing: \n",
    "Threads within the same process share the same memory space, which allows them to share resources such as variables, data structures, and files more efficiently than if each thread had to create its own copy of those resources.\n",
    "\n",
    "##### Responsiveness:\n",
    "Multithreading can help improve the responsiveness of a program, as it allows a program to continue processing user input while carrying out other tasks in the background.\n",
    "\n",
    "##### Scalability:\n",
    "Multithreading makes it easier to scale a program to handle more users or tasks by allowing multiple threads to handle different parts of the program simultaneously.\n",
    "\n",
    "##### Disadvantages:\n",
    "\n",
    "##### Complexity:\n",
    "Multithreaded programs can be more complex than single-threaded programs, as they require careful coordination between threads to avoid race conditions and other synchronization issues.\n",
    "\n",
    "##### Debugging:\n",
    "Debugging multithreaded programs can be more difficult than debugging single-threaded programs, as it can be hard to track down and reproduce errors that occur due to thread interactions.\n",
    "\n",
    "##### Overhead:\n",
    "Multithreading can introduce overhead due to the additional resources required to manage and synchronize threads, which can reduce the overall performance of a program.\n",
    "\n",
    "##### Deadlocks:\n",
    "Multithreaded programs can be susceptible to deadlocks, where two or more threads are waiting for each other to release resources, causing the program to hang."
   ]
  },
  {
   "cell_type": "markdown",
   "id": "2d3edc60",
   "metadata": {},
   "source": [
    "### Q6. Explain deadlocks and race conditions."
   ]
  },
  {
   "cell_type": "markdown",
   "id": "a1533725",
   "metadata": {},
   "source": [
    "##### Deadlocks and race conditions are two common synchronization issues that can occur in multithreaded programs.\n",
    "\n",
    "A deadlock occurs when two or more threads are waiting for each other to release a resource that they each need to proceed. For example, if Thread A holds Resource X and needs Resource Y, while Thread B holds Resource Y and needs Resource X, both threads will become stuck and the program will freeze. This is known as a deadlock.\n",
    "\n",
    " Deadlocks can be difficult to detect and resolve, and they can cause programs to become unresponsive. To avoid deadlocks, it is important to carefully manage resources and ensure that threads release them in a consistent order.\n",
    "\n",
    "\n",
    "A race condition occurs when two or more threads access a shared resource simultaneously, and the final outcome depends on the order in which the threads execute. For example, if two threads are trying to increment a shared counter at the same time, the final value of the counter will depend on which thread executes its increment operation first.\n",
    "\n",
    " Race conditions can lead to unexpected behavior and bugs in programs, as the outcome may not be deterministic. To avoid race conditions, it is important to use synchronization techniques like locks, semaphores, or atomic operations to ensure that only one thread can access a shared resource at a time."
   ]
  },
  {
   "cell_type": "code",
   "execution_count": null,
   "id": "bb1c2b84",
   "metadata": {},
   "outputs": [],
   "source": []
  }
 ],
 "metadata": {
  "kernelspec": {
   "display_name": "Python 3 (ipykernel)",
   "language": "python",
   "name": "python3"
  },
  "language_info": {
   "codemirror_mode": {
    "name": "ipython",
    "version": 3
   },
   "file_extension": ".py",
   "mimetype": "text/x-python",
   "name": "python",
   "nbconvert_exporter": "python",
   "pygments_lexer": "ipython3",
   "version": "3.9.12"
  }
 },
 "nbformat": 4,
 "nbformat_minor": 5
}
