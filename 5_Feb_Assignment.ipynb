{
 "cells": [
  {
   "cell_type": "markdown",
   "id": "c9a68673",
   "metadata": {},
   "source": [
    "### Q1. Explain Class and Object with respect to Object-Oriented Programming. Give a suitable example."
   ]
  },
  {
   "cell_type": "markdown",
   "id": "84e05702",
   "metadata": {},
   "source": [
    "In object-oriented Programming(OOP),a class is a blueprint or a template that describes the properties(attribute) and behaviors(methods) of a certain type of objects.An object, on other hand is an instance of a class, with its own set of attributes and behaviors\n",
    "\n",
    "in python we can define a class using the'class' Keywoed"
   ]
  },
  {
   "cell_type": "code",
   "execution_count": 17,
   "id": "4374c99c",
   "metadata": {},
   "outputs": [],
   "source": [
    "class Courses:\n",
    "    def __init__(self,name,price):\n",
    "        self.name=name\n",
    "        self.price=price\n",
    "    def details(self):\n",
    "        print (\"Name of course is \", self.name,\"and Price is \", self.price)\n",
    "\n",
    "     "
   ]
  },
  {
   "cell_type": "code",
   "execution_count": 18,
   "id": "dc47b974",
   "metadata": {},
   "outputs": [],
   "source": [
    "c=Courses(\"Data_Science\",2500)"
   ]
  },
  {
   "cell_type": "code",
   "execution_count": 19,
   "id": "32da644c",
   "metadata": {},
   "outputs": [
    {
     "name": "stdout",
     "output_type": "stream",
     "text": [
      "Name of course is  Data_Science and Price is  2500\n"
     ]
    }
   ],
   "source": [
    "c.details()"
   ]
  },
  {
   "cell_type": "code",
   "execution_count": 20,
   "id": "eb4d742f",
   "metadata": {},
   "outputs": [
    {
     "data": {
      "text/plain": [
       "'Data_Science'"
      ]
     },
     "execution_count": 20,
     "metadata": {},
     "output_type": "execute_result"
    }
   ],
   "source": [
    "c.name"
   ]
  },
  {
   "cell_type": "code",
   "execution_count": 21,
   "id": "f235566c",
   "metadata": {},
   "outputs": [
    {
     "data": {
      "text/plain": [
       "2500"
      ]
     },
     "execution_count": 21,
     "metadata": {},
     "output_type": "execute_result"
    }
   ],
   "source": [
    "c.price"
   ]
  },
  {
   "cell_type": "markdown",
   "id": "f1e12c1a",
   "metadata": {},
   "source": [
    "### Q2. Name the four pillars of OOPs."
   ]
  },
  {
   "cell_type": "markdown",
   "id": "266e8ee9",
   "metadata": {},
   "source": [
    "## # The four pillars of OOps are\n",
    "1.Encapsulation\n",
    "2.Polymorphism\n",
    "3.Inheritance\n",
    "4.Abstraction\n",
    "\n",
    "## Encapsulation: \n",
    "The concept of bundling data and methods that operate on that data within one unit or entity, which restricts access to the internal workings of that unit from the outside world. Encapsulation helps to keep code organized, secure, and easy to maintain by hiding the implementation details from the users of the class.\n",
    "\n",
    "## Abstraction: \n",
    "The process of hiding complex implementation details and exposing only the essential features of an object. Abstraction allows you to focus on what an object does instead of how it does it. This helps to reduce the complexity of the code and make it easier to understand.\n",
    "\n",
    "## Inheritance: \n",
    "The ability to create a new class from an existing class, inheriting its attributes and methods. Inheritance allows you to reuse existing code, and it enables you to create a hierarchy of classes that share common attributes and methods.\n",
    "\n",
    "## Polymorphism:\n",
    "The ability of objects of different classes to be used interchangeably. Polymorphism allows you to write code that can work with objects of multiple types, without having to know the details of each type. This makes code more flexible and adaptable to changes."
   ]
  },
  {
   "cell_type": "markdown",
   "id": "6a0ee76c",
   "metadata": {},
   "source": [
    "### Q3. Explain why the __init__() function is used. Give a suitable example."
   ]
  },
  {
   "cell_type": "markdown",
   "id": "5ad717ad",
   "metadata": {},
   "source": [
    "init() is a constructor it is uesd for passing attributes to our class\n",
    "One of the primary uses of __init__() method is to define and initialize the instance variables of a class. Instance variables are specific to each object of a class and their values can vary from one object to another."
   ]
  },
  {
   "cell_type": "code",
   "execution_count": 22,
   "id": "957f92b5",
   "metadata": {},
   "outputs": [],
   "source": [
    "class Courses:\n",
    "    def __init__(self,name,price):\n",
    "        self.name=name\n",
    "        self.price=price\n",
    "    def details(self):\n",
    "        print (\"Name of course is \", self.name,\"and Price is \", self.price)"
   ]
  },
  {
   "cell_type": "code",
   "execution_count": 23,
   "id": "ddc91049",
   "metadata": {},
   "outputs": [],
   "source": [
    "c=Courses(\"Data_Science\",3500)"
   ]
  },
  {
   "cell_type": "code",
   "execution_count": 24,
   "id": "4490a8dc",
   "metadata": {},
   "outputs": [
    {
     "name": "stdout",
     "output_type": "stream",
     "text": [
      "Name of course is  Data_Science and Price is  3500\n"
     ]
    }
   ],
   "source": [
    "c.details()"
   ]
  },
  {
   "cell_type": "markdown",
   "id": "cf187bf1",
   "metadata": {},
   "source": [
    "#### without __init__"
   ]
  },
  {
   "cell_type": "code",
   "execution_count": 25,
   "id": "40506f86",
   "metadata": {},
   "outputs": [],
   "source": [
    "class Course:\n",
    "    def details(self):\n",
    "        print (\"Name of course is \", self.name,\"and Price is \", self.price)"
   ]
  },
  {
   "cell_type": "code",
   "execution_count": 29,
   "id": "eb372eb3",
   "metadata": {},
   "outputs": [
    {
     "ename": "TypeError",
     "evalue": "Course() takes no arguments",
     "output_type": "error",
     "traceback": [
      "\u001b[1;31m---------------------------------------------------------------------------\u001b[0m",
      "\u001b[1;31mTypeError\u001b[0m                                 Traceback (most recent call last)",
      "Input \u001b[1;32mIn [29]\u001b[0m, in \u001b[0;36m<cell line: 1>\u001b[1;34m()\u001b[0m\n\u001b[1;32m----> 1\u001b[0m c\u001b[38;5;241m=\u001b[39m\u001b[43mCourse\u001b[49m\u001b[43m(\u001b[49m\u001b[38;5;124;43m\"\u001b[39;49m\u001b[38;5;124;43mData_Sceince\u001b[39;49m\u001b[38;5;124;43m\"\u001b[39;49m\u001b[43m,\u001b[49m\u001b[38;5;241;43m3500\u001b[39;49m\u001b[43m)\u001b[49m\n",
      "\u001b[1;31mTypeError\u001b[0m: Course() takes no arguments"
     ]
    }
   ],
   "source": [
    "c=Course(\"Data_Sceince\",3500)"
   ]
  },
  {
   "cell_type": "markdown",
   "id": "a812356f",
   "metadata": {},
   "source": [
    "#### Without init we can not assign arguments to our class"
   ]
  },
  {
   "cell_type": "markdown",
   "id": "ac8d6387",
   "metadata": {},
   "source": [
    "### Q4. Why self is used in OOPs?"
   ]
  },
  {
   "cell_type": "markdown",
   "id": "7e740418",
   "metadata": {},
   "source": [
    "self represents the instance of the class. By using the “self”  we can access the attributes and methods of the class in python. It binds the attributes with the given arguments.\n",
    "It does not have to be named self , we can call it whatever we  like, but it has to be the first parameter of any function in the class\n"
   ]
  },
  {
   "cell_type": "markdown",
   "id": "94a2929f",
   "metadata": {},
   "source": [
    "### Q5. What is inheritance? Give an example for each type of inheritance."
   ]
  },
  {
   "cell_type": "markdown",
   "id": "e541566d",
   "metadata": {},
   "source": [
    "Inheritance is a fundamental concept in object-oriented programming (OOP) that allows a class to inherit properties and behaviors from another class. The class that inherits properties and behaviors is called the subclass or derived class, and the class that provides those properties and behaviors is called the superclass or base class."
   ]
  },
  {
   "cell_type": "markdown",
   "id": "d4dd9cbb",
   "metadata": {},
   "source": [
    "#### Multilayer inheritance \n",
    "in this inheritance if we have 3 class if 2nd class inherit property of 1st class 3rd class inherit property of 2nd class than also 3rd class inherit property of 1st class it is called multilayer inheritence"
   ]
  },
  {
   "cell_type": "code",
   "execution_count": 75,
   "id": "8752c99b",
   "metadata": {},
   "outputs": [],
   "source": [
    "class transport:\n",
    "    def __init__(self,name,Type):\n",
    "        self.name=name\n",
    "        self.Type=Type\n",
    "    def details1(self):\n",
    "        print(self.name,self.Type)\n",
    "    "
   ]
  },
  {
   "cell_type": "code",
   "execution_count": 76,
   "id": "b2504379",
   "metadata": {},
   "outputs": [],
   "source": [
    "class commercial_transport(transport):\n",
    "    def details2(self):\n",
    "        print(\"This is the details of commercial transport\")"
   ]
  },
  {
   "cell_type": "code",
   "execution_count": 77,
   "id": "7adaac0c",
   "metadata": {},
   "outputs": [],
   "source": [
    "ct=commercial_transport(\"Truck\",\"HMV\")"
   ]
  },
  {
   "cell_type": "code",
   "execution_count": 78,
   "id": "ecc27113",
   "metadata": {},
   "outputs": [
    {
     "name": "stdout",
     "output_type": "stream",
     "text": [
      "Truck HMV\n"
     ]
    }
   ],
   "source": [
    "ct.details1()"
   ]
  },
  {
   "cell_type": "code",
   "execution_count": 79,
   "id": "7e16e47a",
   "metadata": {},
   "outputs": [
    {
     "name": "stdout",
     "output_type": "stream",
     "text": [
      "This is the details of commercial transport\n"
     ]
    }
   ],
   "source": [
    "ct.details2()"
   ]
  },
  {
   "cell_type": "code",
   "execution_count": 80,
   "id": "08e2d14f",
   "metadata": {},
   "outputs": [
    {
     "data": {
      "text/plain": [
       "'Truck'"
      ]
     },
     "execution_count": 80,
     "metadata": {},
     "output_type": "execute_result"
    }
   ],
   "source": [
    "ct.name"
   ]
  },
  {
   "cell_type": "code",
   "execution_count": 81,
   "id": "60e1bd9f",
   "metadata": {},
   "outputs": [],
   "source": [
    "class private_transport(commercial_transport):\n",
    "    def details3(self):\n",
    "        print(\"This is the details of private transport\")"
   ]
  },
  {
   "cell_type": "code",
   "execution_count": 82,
   "id": "852ba12e",
   "metadata": {},
   "outputs": [],
   "source": [
    "ct=private_transport(\"Bike\",\"LMV\")"
   ]
  },
  {
   "cell_type": "code",
   "execution_count": 83,
   "id": "0e582186",
   "metadata": {},
   "outputs": [
    {
     "name": "stdout",
     "output_type": "stream",
     "text": [
      "Bike LMV\n"
     ]
    }
   ],
   "source": [
    "ct.details1()"
   ]
  },
  {
   "cell_type": "code",
   "execution_count": 84,
   "id": "799100f1",
   "metadata": {},
   "outputs": [
    {
     "name": "stdout",
     "output_type": "stream",
     "text": [
      "This is the details of commercial transport\n"
     ]
    }
   ],
   "source": [
    "ct.details2()"
   ]
  },
  {
   "cell_type": "code",
   "execution_count": 85,
   "id": "959da08a",
   "metadata": {},
   "outputs": [
    {
     "name": "stdout",
     "output_type": "stream",
     "text": [
      "This is the details of private transport\n"
     ]
    }
   ],
   "source": [
    "ct.details3()"
   ]
  },
  {
   "cell_type": "code",
   "execution_count": 86,
   "id": "eaa4ec96",
   "metadata": {},
   "outputs": [
    {
     "data": {
      "text/plain": [
       "'LMV'"
      ]
     },
     "execution_count": 86,
     "metadata": {},
     "output_type": "execute_result"
    }
   ],
   "source": [
    "ct.Type"
   ]
  },
  {
   "cell_type": "markdown",
   "id": "ac21ac2a",
   "metadata": {},
   "source": [
    "#### if we not inherit the property we have to create a constructor again"
   ]
  },
  {
   "cell_type": "code",
   "execution_count": 87,
   "id": "36ef1f53",
   "metadata": {},
   "outputs": [],
   "source": [
    "class commercial_transport():\n",
    "    def details(self):\n",
    "        print(\"This is the details of commercial transport\")"
   ]
  },
  {
   "cell_type": "code",
   "execution_count": 88,
   "id": "759fd8bc",
   "metadata": {},
   "outputs": [
    {
     "ename": "TypeError",
     "evalue": "commercial_transport() takes no arguments",
     "output_type": "error",
     "traceback": [
      "\u001b[1;31m---------------------------------------------------------------------------\u001b[0m",
      "\u001b[1;31mTypeError\u001b[0m                                 Traceback (most recent call last)",
      "Input \u001b[1;32mIn [88]\u001b[0m, in \u001b[0;36m<cell line: 1>\u001b[1;34m()\u001b[0m\n\u001b[1;32m----> 1\u001b[0m ct\u001b[38;5;241m=\u001b[39m\u001b[43mcommercial_transport\u001b[49m\u001b[43m(\u001b[49m\u001b[38;5;124;43m\"\u001b[39;49m\u001b[38;5;124;43mBike\u001b[39;49m\u001b[38;5;124;43m\"\u001b[39;49m\u001b[43m,\u001b[49m\u001b[38;5;124;43m\"\u001b[39;49m\u001b[38;5;124;43mLMV\u001b[39;49m\u001b[38;5;124;43m\"\u001b[39;49m\u001b[43m)\u001b[49m\n",
      "\u001b[1;31mTypeError\u001b[0m: commercial_transport() takes no arguments"
     ]
    }
   ],
   "source": [
    "ct=commercial_transport(\"Bike\",\"LMV\")"
   ]
  },
  {
   "cell_type": "markdown",
   "id": "f5641165",
   "metadata": {},
   "source": [
    "#### Multiple inheritence¶\n",
    "in this for eg we have three class class1(father) ,class2(mother),class3(child) and we inherit the property of class1 and class 2 directly to class3"
   ]
  },
  {
   "cell_type": "code",
   "execution_count": 89,
   "id": "f5478c8e",
   "metadata": {},
   "outputs": [],
   "source": [
    "class transport:\n",
    "    def __init__(self,name,Type):\n",
    "        self.name=name\n",
    "        self.Type=Type\n",
    "    def details1(self):\n",
    "        print(self.name,self.Type)\n",
    "    "
   ]
  },
  {
   "cell_type": "code",
   "execution_count": 91,
   "id": "7c99578d",
   "metadata": {},
   "outputs": [],
   "source": [
    "class commercial_transport:\n",
    "    def details2(self):\n",
    "        print(\"This is the details of commercial transport\")"
   ]
  },
  {
   "cell_type": "code",
   "execution_count": 92,
   "id": "b6452f89",
   "metadata": {},
   "outputs": [],
   "source": [
    "class private_transport(transport,commercial_transport):\n",
    "    def details3(self):\n",
    "        print(\"This is the details of private transport\")"
   ]
  },
  {
   "cell_type": "code",
   "execution_count": 97,
   "id": "75acfa91",
   "metadata": {},
   "outputs": [],
   "source": [
    "pt=private_transport(\"Activa\",\"LMV\")"
   ]
  },
  {
   "cell_type": "code",
   "execution_count": 98,
   "id": "e263b60a",
   "metadata": {},
   "outputs": [
    {
     "name": "stdout",
     "output_type": "stream",
     "text": [
      "This is the details of private transport\n"
     ]
    }
   ],
   "source": [
    "pt.details3()"
   ]
  },
  {
   "cell_type": "code",
   "execution_count": 99,
   "id": "2addb89e",
   "metadata": {},
   "outputs": [
    {
     "name": "stdout",
     "output_type": "stream",
     "text": [
      "This is the details of commercial transport\n"
     ]
    }
   ],
   "source": [
    "pt.details2()"
   ]
  },
  {
   "cell_type": "code",
   "execution_count": 100,
   "id": "751ec48c",
   "metadata": {},
   "outputs": [
    {
     "name": "stdout",
     "output_type": "stream",
     "text": [
      "Activa LMV\n"
     ]
    }
   ],
   "source": [
    "pt.details1()"
   ]
  },
  {
   "cell_type": "code",
   "execution_count": null,
   "id": "6636f7ed",
   "metadata": {},
   "outputs": [],
   "source": []
  }
 ],
 "metadata": {
  "kernelspec": {
   "display_name": "Python 3 (ipykernel)",
   "language": "python",
   "name": "python3"
  },
  "language_info": {
   "codemirror_mode": {
    "name": "ipython",
    "version": 3
   },
   "file_extension": ".py",
   "mimetype": "text/x-python",
   "name": "python",
   "nbconvert_exporter": "python",
   "pygments_lexer": "ipython3",
   "version": "3.9.12"
  }
 },
 "nbformat": 4,
 "nbformat_minor": 5
}
