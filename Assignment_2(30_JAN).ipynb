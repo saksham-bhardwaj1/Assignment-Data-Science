{
 "cells": [
  {
   "cell_type": "markdown",
   "id": "6b4edcc3",
   "metadata": {},
   "source": [
    "### 1.Wap to accept percentage from the user and display the grade according to the given criteria:"
   ]
  },
  {
   "cell_type": "code",
   "execution_count": 33,
   "id": "30d313ea",
   "metadata": {},
   "outputs": [
    {
     "name": "stdout",
     "output_type": "stream",
     "text": [
      "Enter your Percentage:- 94\n",
      "Your Grade is A\n"
     ]
    }
   ],
   "source": [
    "Marks=int(input(\"Enter your Percentage:- \"))\n",
    "if Marks>90:\n",
    "    print(\"Your Grade is A\")\n",
    "elif Marks>80 and Marks<=90:\n",
    "    print(\"Your Grade is B\")\n",
    "elif Marks>=60 and Marks<=80:\n",
    "    print(\"Your Grade is C\")\n",
    "else:\n",
    "    print(\"Your Grade is D\")"
   ]
  },
  {
   "cell_type": "markdown",
   "id": "611f2f9f",
   "metadata": {},
   "source": [
    "### 2. Wap to accept the cost price of a bike and display the road tax to paid according to the following criteria:-"
   ]
  },
  {
   "cell_type": "code",
   "execution_count": 46,
   "id": "e59580f9",
   "metadata": {},
   "outputs": [
    {
     "name": "stdout",
     "output_type": "stream",
     "text": [
      "Please enter the price of your bike:-200000\n",
      "You have to paid 15% road tax 400000\n"
     ]
    }
   ],
   "source": [
    "cost=int(input(\"Please enter the price of your bike:-\"))\n",
    "if cost > 100000:\n",
    "    \n",
    "    print(\"You have to paid 15% road tax\")\n",
    "elif cost > 50000 and cost<=100000:\n",
    "    print(\"You have to paid 10% road tax\")\n",
    "else:\n",
    "    print(\"You have to paid 5% road tax\")"
   ]
  },
  {
   "cell_type": "markdown",
   "id": "77d4bb17",
   "metadata": {},
   "source": [
    "### 3. Accept any city from the user and display monuments of that city."
   ]
  },
  {
   "cell_type": "code",
   "execution_count": 39,
   "id": "07b4421e",
   "metadata": {},
   "outputs": [
    {
     "name": "stdout",
     "output_type": "stream",
     "text": [
      "Please enter your city:- Jaipur\n",
      "Jal Mahal\n"
     ]
    }
   ],
   "source": [
    "city=str(input(\"Please enter your city:- \"))\n",
    "if city == \"Delhi\":\n",
    "    print(\"Red Fort\")\n",
    "elif city == \"Agra\":\n",
    "    print(\"Taj Mahal\")\n",
    "elif city ==\"Jaipur\":\n",
    "    print(\"Jal Mahal\")"
   ]
  },
  {
   "cell_type": "markdown",
   "id": "ecb1817e",
   "metadata": {},
   "source": [
    "### 4. Check how many times a given number can be divided by 3 before it is less than or equal to 10"
   ]
  },
  {
   "cell_type": "code",
   "execution_count": 21,
   "id": "1b11fea3",
   "metadata": {},
   "outputs": [
    {
     "data": {
      "text/plain": [
       "4"
      ]
     },
     "execution_count": 21,
     "metadata": {},
     "output_type": "execute_result"
    }
   ],
   "source": [
    "count=0\n",
    "for i in range(0,11):\n",
    "    if i%3==0:\n",
    "        count=count+1\n",
    "\n",
    "count"
   ]
  },
  {
   "cell_type": "markdown",
   "id": "a7ddb0d0",
   "metadata": {},
   "source": [
    "### 5.Why and when to use while loop in python give a detailed description with example"
   ]
  },
  {
   "cell_type": "markdown",
   "id": "ffea6f5c",
   "metadata": {},
   "source": [
    "we use while loop in python when we have to repeat a block of code for an indefinite number of times until a specific  conditions is met.\n",
    "The condition is evaluated before each iteration of the loop. If the condition is true, the loop body is executed and the condition is re-evaluated. If the condition is still true, the loop body is executed again and the condition is re-evaluated.this process continues until the condition becomes false\n",
    "eg:-"
   ]
  },
  {
   "cell_type": "code",
   "execution_count": 14,
   "id": "8b063ac5",
   "metadata": {},
   "outputs": [
    {
     "name": "stdout",
     "output_type": "stream",
     "text": [
      "10\n",
      "9\n",
      "8\n",
      "7\n",
      "6\n",
      "5\n",
      "4\n",
      "3\n",
      "2\n",
      "1\n"
     ]
    }
   ],
   "source": [
    "n=10\n",
    "while n>0:\n",
    "    print(n)\n",
    "    n=n-1\n",
    "    "
   ]
  },
  {
   "cell_type": "markdown",
   "id": "e843fcff",
   "metadata": {},
   "source": [
    "### 6.use nested while loop to print 3 different pattern"
   ]
  },
  {
   "cell_type": "code",
   "execution_count": 18,
   "id": "4242f016",
   "metadata": {},
   "outputs": [
    {
     "name": "stdout",
     "output_type": "stream",
     "text": [
      "Enter the number:- 6\n",
      "*\n",
      "**\n",
      "***\n",
      "****\n",
      "*****\n",
      "******\n"
     ]
    }
   ],
   "source": [
    "value=int(input(\"Enter the number:- \"))\n",
    "i=1\n",
    "while i<=value:\n",
    "    j=1\n",
    "    while j<=i:\n",
    "        print('*',end='')\n",
    "        j=j+1\n",
    "    print()\n",
    "    i=i+1"
   ]
  },
  {
   "cell_type": "code",
   "execution_count": 20,
   "id": "263b3674",
   "metadata": {},
   "outputs": [
    {
     "name": "stdout",
     "output_type": "stream",
     "text": [
      "Enter the number:- 6\n",
      "          * \n",
      "        * * \n",
      "      * * * \n",
      "    * * * * \n",
      "  * * * * * \n",
      "* * * * * * \n"
     ]
    }
   ],
   "source": [
    "value=int(input(\"Enter the number:- \"))\n",
    "i=1\n",
    "while i<=value:\n",
    "    s=1\n",
    "    while s<=value-i:\n",
    "        print(\" \",end=\" \")\n",
    "        s=s+1\n",
    "    j=1\n",
    "    while j<=i:\n",
    "        print('*',end=' ')\n",
    "        j=j+1\n",
    "    print()\n",
    "    i=i+1"
   ]
  },
  {
   "cell_type": "code",
   "execution_count": 17,
   "id": "89cdeb5a",
   "metadata": {},
   "outputs": [
    {
     "name": "stdout",
     "output_type": "stream",
     "text": [
      "Enter the number:- 6\n",
      "     * \n",
      "    * * \n",
      "   * * * \n",
      "  * * * * \n",
      " * * * * * \n",
      "* * * * * * \n"
     ]
    }
   ],
   "source": [
    "value=int(input(\"Enter the number:- \"))\n",
    "i=1\n",
    "while i<=value:\n",
    "    s=1\n",
    "    while s<=value-i:\n",
    "        print(\" \",end=\"\")\n",
    "        s=s+1\n",
    "    j=1\n",
    "    while j<=i:\n",
    "        print('*',end=' ')\n",
    "        j=j+1\n",
    "    print()\n",
    "    i=i+1"
   ]
  },
  {
   "cell_type": "markdown",
   "id": "6c373abe",
   "metadata": {},
   "source": [
    "### 7. Reverse a while loop to display number from 10 to 1"
   ]
  },
  {
   "cell_type": "code",
   "execution_count": 22,
   "id": "5e047593",
   "metadata": {},
   "outputs": [
    {
     "name": "stdout",
     "output_type": "stream",
     "text": [
      "10\n",
      "9\n",
      "8\n",
      "7\n",
      "6\n",
      "5\n",
      "4\n",
      "3\n",
      "2\n",
      "1\n"
     ]
    }
   ],
   "source": [
    "num=10\n",
    "while num>0:\n",
    "    print(num)\n",
    "    num=num-1"
   ]
  },
  {
   "cell_type": "raw",
   "id": "7b9370fd",
   "metadata": {},
   "source": [
    "7 and 8 question are same"
   ]
  }
 ],
 "metadata": {
  "kernelspec": {
   "display_name": "Python 3 (ipykernel)",
   "language": "python",
   "name": "python3"
  },
  "language_info": {
   "codemirror_mode": {
    "name": "ipython",
    "version": 3
   },
   "file_extension": ".py",
   "mimetype": "text/x-python",
   "name": "python",
   "nbconvert_exporter": "python",
   "pygments_lexer": "ipython3",
   "version": "3.9.12"
  }
 },
 "nbformat": 4,
 "nbformat_minor": 5
}
